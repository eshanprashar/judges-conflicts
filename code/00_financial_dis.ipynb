{
 "cells": [
  {
   "cell_type": "code",
   "execution_count": 7,
   "metadata": {},
   "outputs": [],
   "source": [
    "import requests\n",
    "import json\n",
    "import csv\n",
    "import string\n",
    "from utils import api_token"
   ]
  },
  {
   "cell_type": "code",
   "execution_count": 5,
   "metadata": {},
   "outputs": [],
   "source": [
    "# Function to create a session with the API token\n",
    "def make_session():\n",
    "    s = requests.session()\n",
    "    s.headers.update({\"Authorization\": f\"Token {api_token}\"})\n",
    "    return s"
   ]
  },
  {
   "cell_type": "code",
   "execution_count": 6,
   "metadata": {},
   "outputs": [],
   "source": [
    "# Function to fetch data from the API endpoint with pagination handling for a limited number of pages\n",
    "def fetch_data(url, max_pages):\n",
    "    session = make_session()\n",
    "    all_data = []\n",
    "    page_count = 0\n",
    "    \n",
    "    while url and page_count < max_pages:\n",
    "        response = session.get(url)\n",
    "        \n",
    "        if response.status_code != 200:\n",
    "            print(f\"Error: {response.status_code}, {response.text}\")\n",
    "            break\n",
    "        \n",
    "        data = response.json()\n",
    "        all_data.extend(data['results']) # append data from the current page to the list\n",
    "\n",
    "        if 'next' in data and data['next'] is not None: # next is the key for the next page\n",
    "            url = data['next']\n",
    "            page_count += 1\n",
    "        else:\n",
    "            break\n",
    "    \n",
    "    # testing: save data to a json file\n",
    "    with open('testing_data_fetch.json', 'w') as f:\n",
    "        json.dump(all_data, f)\n",
    "    \n",
    "    return all_data"
   ]
  },
  {
   "cell_type": "code",
   "execution_count": 8,
   "metadata": {},
   "outputs": [],
   "source": [
    "# Function to process and flatten the data\n",
    "def process_data(data):\n",
    "    processed_data = []  # processed data is a list of elements\n",
    "    for item in data:  # data is the list of \"results\" from the API response; each item in the list is a dictionary of financial disclosures\n",
    "        \n",
    "        # Extract general fields\n",
    "        base_entry = {\n",
    "            'person_url': item['person'],\n",
    "            'person_id': item['person'].rstrip('/').split('/')[-1]  # last element of the person url gives ID\n",
    "        }\n",
    "\n",
    "        # Process agreements\n",
    "        for agreement in item['agreements']:\n",
    "            entry = base_entry.copy()\n",
    "            entry.update({\n",
    "                'type': 'agreement',\n",
    "                'date_raw': agreement.get('date_raw', None),\n",
    "                'parties_and_terms': agreement.get('parties_and_terms', None),\n",
    "                'redacted': agreement.get('redacted', None)\n",
    "            })\n",
    "            processed_data.append(entry)\n",
    "\n",
    "        # Process investments\n",
    "        for investment in item['investments']:\n",
    "            entry = base_entry.copy()\n",
    "            entry.update({\n",
    "                'type': 'investment',\n",
    "                'description': investment.get('description', None),\n",
    "                'redacted': investment.get('redacted', None),\n",
    "                'income_during_reporting_period_code': investment.get('income_during_reporting_period_code', None),\n",
    "                'income_during_reporting_period_type': investment.get('income_during_reporting_period_type', None),\n",
    "                'gross_value_code': investment.get('gross_value_code', None),\n",
    "                'gross_value_method': investment.get('gross_value_method', None),\n",
    "                'transaction_during_reporting_period': investment.get('transaction_during_reporting_period', None),\n",
    "                'transaction_date_raw': investment.get('transaction_date_raw', None),\n",
    "                'transaction_date': investment.get('transaction_date', None),\n",
    "                'transaction_value_code': investment.get('transaction_value_code', None),\n",
    "                'transaction_gain_code': investment.get('transaction_gain_code', None),\n",
    "                'transaction_partner': investment.get('transaction_partner', None),\n",
    "                'has_inferred_values': investment.get('has_inferred_values', None)\n",
    "            })\n",
    "            processed_data.append(entry)\n",
    "\n",
    "        # Process non-investment incomes\n",
    "        for non_investment_income in item['non_investment_incomes']:\n",
    "            entry = base_entry.copy()\n",
    "            entry.update({\n",
    "                'type': 'non_investment_income',\n",
    "                'date_raw': non_investment_income.get('date_raw', None),\n",
    "                'source_type': non_investment_income.get('source_type', None),\n",
    "                'income_amount': non_investment_income.get('income_amount', None),\n",
    "                'redacted': non_investment_income.get('redacted', None)\n",
    "            })\n",
    "            processed_data.append(entry)\n",
    "\n",
    "        # Process reimbursements\n",
    "        for reimbursement in item['reimbursements']:\n",
    "            entry = base_entry.copy()\n",
    "            entry.update({\n",
    "                'type': 'reimbursement',\n",
    "                'source': reimbursement.get('source', None),\n",
    "                'date_raw': reimbursement.get('date_raw', None),\n",
    "                'location': reimbursement.get('location', None),\n",
    "                'purpose': reimbursement.get('purpose', None),\n",
    "                'items_paid_or_provided': reimbursement.get('items_paid_or_provided', None),\n",
    "                'redacted': reimbursement.get('redacted', None)\n",
    "            })\n",
    "            processed_data.append(entry)\n",
    "\n",
    "        # Process spouse incomes\n",
    "        for spouse_income in item['spouse_incomes']:\n",
    "            entry = base_entry.copy()\n",
    "            entry.update({\n",
    "                'type': 'spouse_income',\n",
    "                'source_type': spouse_income.get('source_type', None),\n",
    "                'date_raw': spouse_income.get('date_raw', None),\n",
    "                'redacted': spouse_income.get('redacted', None)\n",
    "            })\n",
    "            processed_data.append(entry)\n",
    "\n",
    "    return processed_data"
   ]
  },
  {
   "cell_type": "code",
   "execution_count": 9,
   "metadata": {},
   "outputs": [],
   "source": [
    "# Function to save the data to a CSV file\n",
    "def save_to_csv(data, filename):\n",
    "    with open(filename, 'w', newline='') as csvfile:\n",
    "        fieldnames = [\n",
    "            'person_id', 'person_url', 'type', 'date_raw', 'parties_and_terms', 'redacted', 'description',\n",
    "            'income_during_reporting_period_code', 'income_during_reporting_period_type', 'gross_value_code',\n",
    "            'gross_value_method', 'transaction_during_reporting_period', 'transaction_date_raw', 'transaction_date',\n",
    "            'transaction_value_code', 'transaction_gain_code', 'transaction_partner', 'has_inferred_values', \n",
    "            'source_type', 'income_amount', 'source', 'location', 'purpose', 'items_paid_or_provided'\n",
    "        ]\n",
    "        \n",
    "        writer = csv.DictWriter(csvfile, fieldnames=fieldnames)\n",
    "        writer.writeheader()\n",
    "        \n",
    "        for row in data:\n",
    "            # Use dictionary comprehension to handle missing keys by setting them to None\n",
    "            writer.writerow({field: row.get(field, None) for field in fieldnames})"
   ]
  },
  {
   "cell_type": "code",
   "execution_count": 10,
   "metadata": {},
   "outputs": [
    {
     "name": "stdout",
     "output_type": "stream",
     "text": [
      "Processing done!\n"
     ]
    }
   ],
   "source": [
    "# Fetch and process data for the first 5 pages\n",
    "base_url = \"https://www.courtlistener.com/api/rest/v4/financial-disclosures/\" # updated the API to v4 from v3\n",
    "all_data = fetch_data(base_url, max_pages=10)\n",
    "\n",
    "# Process the fetched data\n",
    "processed_data = process_data(all_data)\n",
    "print(\"Processing done!\")"
   ]
  },
  {
   "attachments": {},
   "cell_type": "markdown",
   "metadata": {},
   "source": [
    "Processing 10 pages took 14 seconds"
   ]
  },
  {
   "cell_type": "code",
   "execution_count": 11,
   "metadata": {},
   "outputs": [
    {
     "name": "stdout",
     "output_type": "stream",
     "text": [
      "Data saved to fin_dis_v1.csv\n"
     ]
    }
   ],
   "source": [
    "# Save the processed data to a CSV file\n",
    "save_to_csv(processed_data, 'fin_disc_v1.csv')\n",
    "\n",
    "# Print confirmation\n",
    "print(f\"Data saved to fin_dis_v1.csv\")"
   ]
  }
 ],
 "metadata": {
  "kernelspec": {
   "display_name": "Python (wang-ml-py3.11)",
   "language": "python",
   "name": "wang-ml-py3.11"
  },
  "language_info": {
   "codemirror_mode": {
    "name": "ipython",
    "version": 3
   },
   "file_extension": ".py",
   "mimetype": "text/x-python",
   "name": "python",
   "nbconvert_exporter": "python",
   "pygments_lexer": "ipython3",
   "version": "3.11.4"
  },
  "orig_nbformat": 4
 },
 "nbformat": 4,
 "nbformat_minor": 2
}
