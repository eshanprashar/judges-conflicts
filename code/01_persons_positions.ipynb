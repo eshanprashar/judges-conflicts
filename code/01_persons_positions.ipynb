{
 "cells": [
  {
   "cell_type": "code",
   "execution_count": 25,
   "metadata": {},
   "outputs": [],
   "source": [
    "import requests\n",
    "import json\n",
    "import csv\n",
    "from utils import api_token"
   ]
  },
  {
   "cell_type": "code",
   "execution_count": 26,
   "metadata": {},
   "outputs": [],
   "source": [
    "# Function to create a session with the API token\n",
    "def make_session():\n",
    "    s = requests.session()\n",
    "    s.headers.update({\"Authorization\": f\"Token {api_token}\"})\n",
    "    return s"
   ]
  },
  {
   "cell_type": "code",
   "execution_count": 27,
   "metadata": {},
   "outputs": [],
   "source": [
    "# Function to fetch data from the API endpoint with pagination handling for a limited number of pages\n",
    "def fetch_data(url, max_pages):\n",
    "    session = make_session()\n",
    "    all_data = []\n",
    "    page_count = 0\n",
    "    \n",
    "    while url and page_count < max_pages:\n",
    "        response = session.get(url)\n",
    "        \n",
    "        if response.status_code != 200:\n",
    "            print(f\"Error: {response.status_code}, {response.text}\")\n",
    "            break\n",
    "        \n",
    "        data = response.json()\n",
    "        all_data.extend(data['results']) # append data from the current page to the list\n",
    "\n",
    "        if 'next' in data and data['next'] is not None: # next is the key for the next page\n",
    "            url = data['next']\n",
    "            page_count += 1\n",
    "        else:\n",
    "            break\n",
    "    \n",
    "    # testing: save data to a json file\n",
    "    with open('testing_data_fetch.json', 'w') as f:\n",
    "        json.dump(all_data, f)\n",
    "    \n",
    "    return all_data"
   ]
  },
  {
   "cell_type": "code",
   "execution_count": 31,
   "metadata": {},
   "outputs": [],
   "source": [
    "# Function to process and flatten the data\n",
    "def process_data(data):\n",
    "    processed_data = []  # processed data is a list of elements, each element is a dictionary\n",
    "    for item in data: # data is the list of \"results\" from the API response; each item in the list is a dictionary position \n",
    "        person = item['person']\n",
    "        # Create a dictionary for the processed data\n",
    "        entry = {\n",
    "            'person_id': person['id'],\n",
    "            'name_first': person['name_first'],\n",
    "            'name_middle': person['name_middle'],\n",
    "            'name_last': person['name_last'],\n",
    "            'political_affiliations': person['political_affiliations'][0]['political_party'] if person['political_affiliations'] else None,  # Handle empty list case\n",
    "            'race': ','.join(person['race']),\n",
    "            'position_url': item['resource_uri'],\n",
    "            'position_type': item['position_type'],\n",
    "            'job_title': item['job_title'],\n",
    "            'sector': item['sector'],\n",
    "            'organization': item['organization_name'],\n",
    "            'date_nominated': item['date_nominated'],\n",
    "            'date_start': item['date_start'],\n",
    "            'date_termination': item['date_termination']\n",
    "        }\n",
    "\n",
    "        # Add court-related fields if the key \"court\" is present and not None\n",
    "        if 'court' in item and item['court'] is not None:\n",
    "            entry.update({\n",
    "                'court_resource_url': item['court']['resource_uri'],\n",
    "                'court_id': item['court']['id'],\n",
    "                'court_short_name': item['court']['short_name'],\n",
    "                'court_full_name': item['court']['full_name'],\n",
    "                'court_url': item['court']['url'],\n",
    "            })\n",
    "        else:\n",
    "            entry.update({\n",
    "                'court_resource_url': None,\n",
    "                'court_id': None,\n",
    "                'court_short_name': None,\n",
    "                'court_full_name': None,\n",
    "                'court_url': None,\n",
    "            })\n",
    "\n",
    "        processed_data.append(entry)\n",
    "    return processed_data\n"
   ]
  },
  {
   "cell_type": "code",
   "execution_count": 33,
   "metadata": {},
   "outputs": [],
   "source": [
    "# Function to save the data to a CSV file\n",
    "def save_to_csv(data, filename):\n",
    "    with open(filename, 'w', newline='') as csvfile: # check fields above - should be the same\n",
    "        fieldnames = ['person_id', 'name_first', 'name_middle', 'name_last', 'political_affiliations', 'race', 'position_url',\n",
    "                      'position_type', 'job_title', 'sector', 'organization', 'date_nominated', 'date_start', 'date_termination',\n",
    "                      'court_resource_url', 'court_id', 'court_short_name', 'court_full_name', 'court_url']\n",
    "        writer = csv.DictWriter(csvfile, fieldnames=fieldnames)\n",
    "        \n",
    "        writer.writeheader()\n",
    "        for row in data:\n",
    "            writer.writerow(row)"
   ]
  },
  {
   "cell_type": "code",
   "execution_count": 35,
   "metadata": {},
   "outputs": [
    {
     "name": "stdout",
     "output_type": "stream",
     "text": [
      "Processing done!\n"
     ]
    }
   ],
   "source": [
    "# Fetch and process data for the first 5 pages\n",
    "base_url = \"https://www.courtlistener.com/api/rest/v4/positions/\" # updated the API to v4 from v3\n",
    "all_data = fetch_data(base_url, max_pages=150)\n",
    "\n",
    "# Process the fetched data\n",
    "processed_data = process_data(all_data)\n",
    "print(\"Processing done!\")"
   ]
  },
  {
   "attachments": {},
   "cell_type": "markdown",
   "metadata": {},
   "source": [
    "Took 1 minute, 44 seconds to process 150 pages. \n",
    "* Total rows -> 3000 (positions)\n",
    "* Unique people -> 569"
   ]
  },
  {
   "cell_type": "code",
   "execution_count": 36,
   "metadata": {},
   "outputs": [
    {
     "name": "stdout",
     "output_type": "stream",
     "text": [
      "Data saved to judges_positions_v5.csv\n"
     ]
    }
   ],
   "source": [
    "# Save the processed data to a CSV file\n",
    "save_to_csv(processed_data, 'judges_positions_v5.csv')\n",
    "\n",
    "# Print confirmation\n",
    "print(f\"Data saved to judges_positions_v5.csv\")"
   ]
  }
 ],
 "metadata": {
  "kernelspec": {
   "display_name": "Python (wang-ml-py3.11)",
   "language": "python",
   "name": "wang-ml-py3.11"
  },
  "language_info": {
   "codemirror_mode": {
    "name": "ipython",
    "version": 3
   },
   "file_extension": ".py",
   "mimetype": "text/x-python",
   "name": "python",
   "nbconvert_exporter": "python",
   "pygments_lexer": "ipython3",
   "version": "3.11.4"
  },
  "orig_nbformat": 4
 },
 "nbformat": 4,
 "nbformat_minor": 2
}
