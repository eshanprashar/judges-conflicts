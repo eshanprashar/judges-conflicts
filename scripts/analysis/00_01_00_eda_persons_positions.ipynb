{
 "cells": [
  {
   "attachments": {},
   "cell_type": "markdown",
   "metadata": {},
   "source": [
    "### Script to analyse positions and people api data on CourtListener. Specific questions:\n",
    "1. How many people did we get data for? \n",
    "2. How many of these are judges?\n",
    "3. What is the average number of positions for judges? What does the distribution look like? How many positions do we have across years?\n",
    "4. What does the typical journey of a judge look like from their first position to a judge-ship?\n",
    "5. Which court(s) have the most representation in our data?"
   ]
  },
  {
   "cell_type": "code",
   "execution_count": 1,
   "metadata": {},
   "outputs": [],
   "source": [
    "# Importing the libraries\n",
    "import os\n",
    "import pandas as pd\n",
    "import numpy as np\n",
    "import glob\n",
    "import matplotlib.pyplot as plt\n",
    "import matplotlib.dates as mdates\n",
    "from msticpy.vis import mp_pandas_plot\n",
    "from msticpy.vis.timeline import display_timeline\n",
    "import networkx as nx"
   ]
  },
  {
   "cell_type": "code",
   "execution_count": 2,
   "metadata": {},
   "outputs": [
    {
     "name": "stdout",
     "output_type": "stream",
     "text": [
      "/Users/eshan23/eshanprashar_git_profile/judges-conflicts/data/persons_positions\n"
     ]
    }
   ],
   "source": [
    "# Define the current working directory and get the path to data files\n",
    "current_dir = os.getcwd()\n",
    "parent_dir = os.path.dirname(current_dir)\n",
    "grandparent_dir = os.path.dirname(parent_dir)\n",
    "\n",
    "# Define the path to the data files\n",
    "data_dir = os.path.join(grandparent_dir, 'data/persons_positions')\n",
    "print(data_dir)"
   ]
  },
  {
   "cell_type": "code",
   "execution_count": 3,
   "metadata": {},
   "outputs": [],
   "source": [
    "# Function to load and concatenate the csv files in our data directory defined above\n",
    "def load_data(data_dir):\n",
    "    '''\n",
    "    This function is not memory efficient, but for <100 csv files, should work fine\n",
    "    For example: this approach will have to be modified for docket/PACER data\n",
    "    '''\n",
    "    all_files = glob.glob(data_dir + \"/*.csv\")\n",
    "    print(f\"Found {len(all_files)} files\")\n",
    "    li = []\n",
    "    for filename in all_files:\n",
    "        try:\n",
    "            df = pd.read_csv(filename, index_col=None, header=0)\n",
    "            li.append(df)\n",
    "        except Exception as e:\n",
    "            print(f\"Error loading {filename}: {e}\")\n",
    "    return pd.concat(li, axis=0, ignore_index=True)"
   ]
  },
  {
   "cell_type": "code",
   "execution_count": 4,
   "metadata": {},
   "outputs": [
    {
     "name": "stdout",
     "output_type": "stream",
     "text": [
      "Found 26 files\n",
      "<class 'pandas.core.frame.DataFrame'>\n",
      "RangeIndex: 51281 entries, 0 to 51280\n",
      "Data columns (total 19 columns):\n",
      " #   Column                  Non-Null Count  Dtype  \n",
      "---  ------                  --------------  -----  \n",
      " 0   person_id               51281 non-null  int64  \n",
      " 1   name_first              51281 non-null  object \n",
      " 2   name_middle             43300 non-null  object \n",
      " 3   name_last               51281 non-null  object \n",
      " 4   political_affiliations  35456 non-null  object \n",
      " 5   race                    33919 non-null  object \n",
      " 6   position_url            51281 non-null  object \n",
      " 7   position_type           30056 non-null  object \n",
      " 8   job_title               21225 non-null  object \n",
      " 9   sector                  6764 non-null   float64\n",
      " 10  organization            13248 non-null  object \n",
      " 11  date_nominated          4274 non-null   object \n",
      " 12  date_start              50412 non-null  object \n",
      " 13  date_termination        42457 non-null  object \n",
      " 14  court_resource_url      22174 non-null  object \n",
      " 15  court_id                22174 non-null  object \n",
      " 16  court_short_name        22174 non-null  object \n",
      " 17  court_full_name         22174 non-null  object \n",
      " 18  court_url               20593 non-null  object \n",
      "dtypes: float64(1), int64(1), object(17)\n",
      "memory usage: 7.4+ MB\n"
     ]
    }
   ],
   "source": [
    "# Define the location of csv files\n",
    "path_name_csv = data_dir + '/positions_csv'\n",
    "\n",
    "# Load the data\n",
    "df_persons_positions = load_data(path_name_csv)\n",
    "\n",
    "# Examine the data obtained\n",
    "df_persons_positions.info()"
   ]
  },
  {
   "cell_type": "code",
   "execution_count": 5,
   "metadata": {},
   "outputs": [
    {
     "name": "stdout",
     "output_type": "stream",
     "text": [
      "Column: person_id has:\n",
      "15604 unique values\n",
      "0 null values\n",
      "=====================================\n",
      "Column: name_first has:\n",
      "2268 unique values\n",
      "0 null values\n",
      "=====================================\n",
      "Column: name_middle has:\n",
      "2429 unique values\n",
      "7981 null values\n",
      "=====================================\n",
      "Column: name_last has:\n",
      "8522 unique values\n",
      "0 null values\n",
      "=====================================\n",
      "Column: political_affiliations has:\n",
      "8 unique values\n",
      "15825 null values\n",
      "=====================================\n",
      "Column: race has:\n",
      "18 unique values\n",
      "17362 null values\n",
      "=====================================\n",
      "Column: position_url has:\n",
      "51281 unique values\n",
      "0 null values\n",
      "=====================================\n",
      "Column: position_type has:\n",
      "45 unique values\n",
      "21225 null values\n",
      "=====================================\n",
      "Column: job_title has:\n",
      "4439 unique values\n",
      "30056 null values\n",
      "=====================================\n",
      "Column: sector has:\n",
      "2 unique values\n",
      "44517 null values\n",
      "=====================================\n",
      "Column: organization has:\n",
      "6444 unique values\n",
      "38033 null values\n",
      "=====================================\n",
      "Column: date_nominated has:\n",
      "2133 unique values\n",
      "47007 null values\n",
      "=====================================\n",
      "Column: date_start has:\n",
      "7204 unique values\n",
      "869 null values\n",
      "=====================================\n",
      "Column: date_termination has:\n",
      "6259 unique values\n",
      "8824 null values\n",
      "=====================================\n",
      "Column: court_resource_url has:\n",
      "1033 unique values\n",
      "29107 null values\n",
      "=====================================\n",
      "Column: court_id has:\n",
      "1033 unique values\n",
      "29107 null values\n",
      "=====================================\n",
      "Column: court_short_name has:\n",
      "942 unique values\n",
      "29107 null values\n",
      "=====================================\n",
      "Column: court_full_name has:\n",
      "1033 unique values\n",
      "29107 null values\n",
      "=====================================\n",
      "Column: court_url has:\n",
      "759 unique values\n",
      "30688 null values\n",
      "=====================================\n"
     ]
    }
   ],
   "source": [
    "# Examining null values for each column\n",
    "for col in df_persons_positions.columns:\n",
    "    print(f\"Column: {col} has:\") \n",
    "    print(f\"{df_persons_positions[col].nunique()} unique values\")\n",
    "    print(f\"{df_persons_positions[col].isnull().sum()} null values\")\n",
    "    print(\"=====================================\")"
   ]
  },
  {
   "attachments": {},
   "cell_type": "markdown",
   "metadata": {},
   "source": [
    "### Observations from data analysis:\n",
    "1. For the ~21K null values in the column \"position_type\", there is a value in the column \"job_title\". The opposite is also true, which they are MECE\n",
    "2. Because of the point above, we should create a column called \"position\" which has value in either of the \"job_title\" or \"position_type\" columns\n",
    "3. When there's a value in position_type, the columns court_id, court_short_name and long_name are populated, they aren't when position is blank and job_title has values \n",
    "\n",
    "### Questions to start with:\n",
    "1. How many people did we get data for? -> 15,604 people \n",
    "2. How many of these are judges?\n",
    "3. What is the average number of positions for judges? What does the distribution look like? How many positions do we have across years?"
   ]
  },
  {
   "attachments": {},
   "cell_type": "markdown",
   "metadata": {},
   "source": [
    "### All data modifications before exporting file in the next cell"
   ]
  },
  {
   "cell_type": "code",
   "execution_count": 15,
   "metadata": {},
   "outputs": [],
   "source": [
    "# First, we add a new column in the dataframe combining values from \"position_type\" and \"job_title\"\n",
    "# If position_type is null, we will use \"job_title\" only and vice-versa\n",
    "\n",
    "df_persons_positions['position'] = df_persons_positions['position_type'].fillna('') + ' ' + df_persons_positions['job_title'].fillna('')\n",
    "\n",
    "# Next, we convert the \"position\" column to lowercase and remove any leading/trailing whitespaces\n",
    "df_persons_positions['position'] = df_persons_positions['position'].str.lower().str.strip()\n",
    "\n",
    "# Add a column called \"judge flag\" to the dataframe. This will be 1 if the position contains \"jud\" or \"jus\" and 0 otherwise\n",
    "df_persons_positions['judge_flag'] = df_persons_positions['position'].str.contains('jud|jus|mag').astype(int)"
   ]
  },
  {
   "cell_type": "code",
   "execution_count": 16,
   "metadata": {},
   "outputs": [],
   "source": [
    "# Export this dataframe to csv for further analysis\n",
    "df_persons_positions.to_csv(data_dir + '/persons_positions_modified.csv', index=False)"
   ]
  },
  {
   "cell_type": "code",
   "execution_count": 18,
   "metadata": {},
   "outputs": [
    {
     "name": "stdout",
     "output_type": "stream",
     "text": [
      "Total unique positions are 4120\n",
      "Total unique positions with 'jus' or 'jud' or 'mag' in them are 354\n"
     ]
    }
   ],
   "source": [
    "# Examining the unique values in the \"position\" column\n",
    "print(f\"Total unique positions are {df_persons_positions['position'].nunique()}\")\n",
    "\n",
    "# Total unique positions with the string \"jud\" in them\n",
    "print(f\"Total unique positions with 'jus' or 'jud' or 'mag' in them are {df_persons_positions[df_persons_positions['position'].str.contains('jud|jus|mag', na=False)]['position'].nunique()}\")"
   ]
  },
  {
   "cell_type": "code",
   "execution_count": 19,
   "metadata": {},
   "outputs": [
    {
     "name": "stdout",
     "output_type": "stream",
     "text": [
      "Average number of positions per person_id is 3.29\n",
      "Median number of positions per person_id is 2.0\n"
     ]
    }
   ],
   "source": [
    "# Let's find the average number of positions (rows) per person_id\n",
    "avg_positions = df_persons_positions.groupby('person_id').size().mean()\n",
    "print(f\"Average number of positions per person_id is {avg_positions.round(2)}\")\n",
    "\n",
    "# Let's find the median number of positions per person_id\n",
    "median_positions = df_persons_positions.groupby('person_id').size().median()\n",
    "print(f\"Median number of positions per person_id is {median_positions}\")"
   ]
  },
  {
   "cell_type": "code",
   "execution_count": 20,
   "metadata": {},
   "outputs": [
    {
     "data": {
      "image/png": "[encoded data removed]",
      "text/plain": [
       "<Figure size 800x600 with 1 Axes>"
      ]
     },
     "metadata": {},
     "output_type": "display_data"
    }
   ],
   "source": [
    "# Let's also plot the distribution of rows (positions) for each person_id\n",
    "\n",
    "# Plot the distribution of rows (positions) for each person_id\n",
    "plt.figure(figsize=(8,6))\n",
    "df_persons_positions.groupby('person_id').size().plot(kind='hist', bins=100)\n",
    "plt.xlabel('Number of positions')\n",
    "plt.ylabel('Number of person_ids')\n",
    "plt.title('Distribution of positions per person_id')\n",
    "\n",
    "# Set Y-axis ticks to intervals of 500\n",
    "max_y = plt.gca().get_ylim()[1]  # Get the current upper limit of the Y-axis\n",
    "plt.yticks(range(0, int(max_y) + 1, 500))\n",
    "\n",
    "# Plot the average value as a vertical line\n",
    "plt.axvline(avg_positions, color='r', linestyle='dashed', linewidth=2)\n",
    "plt.text(avg_positions, max_y * 0.95, f'Avg: {avg_positions:.2f}', color='r', ha='center')\n",
    "\n",
    "plt.show()"
   ]
  },
  {
   "attachments": {},
   "cell_type": "markdown",
   "metadata": {},
   "source": [
    "Out of 15.6K people, 14.2K have the title judge associated with them. What about the rest? What positions do they have?\n",
    "To tackle this, we can think of the positions as judge and non-judge. We can find:\n",
    "1. Number of people with only judge positions\n",
    "2. Number of people with only non-judge positions (also check what these positions are)\n",
    "3. Number of people with both judge and non-judge positions \n",
    "\n",
    "The last category of people is of value. For this category of people, we will check:\n",
    "1. Average number of positions\n",
    "2. Types of positions just before, just after judge position; n +/- 2 positions and so on"
   ]
  },
  {
   "cell_type": "code",
   "execution_count": 21,
   "metadata": {},
   "outputs": [
    {
     "name": "stdout",
     "output_type": "stream",
     "text": [
      "Total number of person_ids: 15604\n",
      "Count of person_ids that ONLY have judge flag = 1: 8202\n",
      "Count of person_ids that ONLY have judge flag = 0: 201\n",
      "Count of person_ids that have judge flag = 1 as well as 0: 7201\n"
     ]
    }
   ],
   "source": [
    "# Now, let's find count of person_ids that ONLY have judge flag = 1. These people have no other positions in the data\n",
    "judges_venn = df_persons_positions.groupby('person_id')['judge_flag'].sum()\n",
    "\n",
    "# Check if the sum of judge_flag for each person_id is equal to the number of positions they have (indicating all positions are judge-related)\n",
    "only_judges_count = (judges_venn == df_persons_positions.groupby('person_id').size()).sum()\n",
    "\n",
    "# Now, let's find count of person_ids that ONLY have judge flag = 0. These people are NOT JUDGES\n",
    "# Sum of judge_flag for each person_id is 0\n",
    "only_non_judges_count = (judges_venn == 0).sum()\n",
    "\n",
    "# Now, let's find count of person_ids that have judge flag = 1 as well as 0. These are judges with other positions, this is data we care about\n",
    "# Check if the sum of judge_flag for each person_id is greater than 0 and less than the number of positions they have\n",
    "judges_with_other_positions_count = ((judges_venn > 0) & (judges_venn < df_persons_positions.groupby('person_id').size())).sum()\n",
    "\n",
    "# Print all values\n",
    "print(f\"Total number of person_ids: {df_persons_positions['person_id'].nunique()}\")\n",
    "print(f\"Count of person_ids that ONLY have judge flag = 1: {only_judges_count}\")\n",
    "print(f\"Count of person_ids that ONLY have judge flag = 0: {only_non_judges_count}\")\n",
    "print(f\"Count of person_ids that have judge flag = 1 as well as 0: {judges_with_other_positions_count}\")"
   ]
  },
  {
   "attachments": {},
   "cell_type": "markdown",
   "metadata": {},
   "source": [
    "Now that we have split data into 3 parts, let's check:\n",
    "1. For non-judges, names of positions and their counts\n",
    "2. For judges with other positions, the average number of positions per person"
   ]
  },
  {
   "cell_type": "code",
   "execution_count": 22,
   "metadata": {},
   "outputs": [
    {
     "name": "stdout",
     "output_type": "stream",
     "text": [
      "\n",
      "Non-Judge Positions and Their Counts:\n",
      "=====================================\n",
      "position\n",
      "mayor                            134\n",
      "pres                              43\n",
      "gov                               25\n",
      "prac                               4\n",
      "ada                                2\n",
      "acting mayor                       2\n",
      "legis                              1\n",
      "9th agriculture commissioner       1\n",
      "29th lieutenant governor           1\n",
      "14th u.s. secretary of energy      1\n",
      "clerk of court                     1\n",
      "clerk                              1\n",
      "principal court attorney           1\n",
      "county executive                   1\n",
      "adj-prof                           1\n",
      "chief juvenile prosecutor          1\n",
      "Name: count, dtype: int64\n",
      "\n",
      "Average number of positions per judge with other positions: 5.45\n"
     ]
    }
   ],
   "source": [
    "# Positions and counts for non-judges \n",
    "non_judges = df_persons_positions[df_persons_positions['person_id'].isin(judges_venn[judges_venn == 0].index)]\n",
    "non_judge_positions_count = non_judges['position'].value_counts()\n",
    "\n",
    "# Print top 20 non-judge positions\n",
    "print(\"\\nNon-Judge Positions and Their Counts:\")\n",
    "print(\"=====================================\")\n",
    "print(non_judge_positions_count.head(20))\n",
    "\n",
    "# For judges with other positions, the average number of positions per person\n",
    "judges_with_other_positions = df_persons_positions[df_persons_positions['person_id'].isin(judges_venn[(judges_venn > 0) & (judges_venn < df_persons_positions.groupby('person_id').size())].index)]\n",
    "average_positions_judges_with_others = judges_with_other_positions.groupby('person_id').size().mean()\n",
    "print(f\"\\nAverage number of positions per judge with other positions: {average_positions_judges_with_others:.2f}\")"
   ]
  },
  {
   "cell_type": "code",
   "execution_count": 37,
   "metadata": {},
   "outputs": [
    {
     "data": {
      "image/png": "[encoded data removed]",
      "text/plain": [
       "<Figure size 800x600 with 1 Axes>"
      ]
     },
     "metadata": {},
     "output_type": "display_data"
    }
   ],
   "source": [
    "# Let's now draw the histogram of the number of positions for judges with other positions\n",
    "plt.figure(figsize=(8,6))\n",
    "judges_with_other_positions.groupby('person_id').size().plot(kind='hist', bins=100)\n",
    "plt.xlabel('Number of positions')\n",
    "plt.ylabel('Number of person_ids')\n",
    "plt.title('Distribution of positions per judge with other positions')\n",
    "\n",
    "# Plot the average value as a vertical line\n",
    "plt.axvline(average_positions_judges_with_others, color='r', linestyle='dashed', linewidth=2)\n",
    "plt.text(average_positions_judges_with_others, plt.gca().get_ylim()[1] * 0.95, f'Avg: {average_positions_judges_with_others:.2f}', color='r', ha='center')\n",
    "\n",
    "plt.show()"
   ]
  }
 ],
 "metadata": {
  "kernelspec": {
   "display_name": "Python (wang-ml-py3.11)",
   "language": "python",
   "name": "wang-ml-py3.11"
  },
  "language_info": {
   "codemirror_mode": {
    "name": "ipython",
    "version": 3
   },
   "file_extension": ".py",
   "mimetype": "text/x-python",
   "name": "python",
   "nbconvert_exporter": "python",
   "pygments_lexer": "ipython3",
   "version": "3.11.4"
  },
  "orig_nbformat": 4
 },
 "nbformat": 4,
 "nbformat_minor": 2
}
