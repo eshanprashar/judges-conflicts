{
 "cells": [
  {
   "cell_type": "code",
   "execution_count": 1,
   "metadata": {},
   "outputs": [],
   "source": [
    "# Importing libraries\n",
    "import os\n",
    "import pandas as pd\n",
    "import string"
   ]
  },
  {
   "cell_type": "code",
   "execution_count": 4,
   "metadata": {},
   "outputs": [
    {
     "name": "stdout",
     "output_type": "stream",
     "text": [
      "<class 'pandas.core.frame.DataFrame'>\n",
      "RangeIndex: 2019751 entries, 0 to 2019750\n",
      "Data columns (total 50 columns):\n",
      " #   Column                               Dtype  \n",
      "---  ------                               -----  \n",
      " 0   person_id                            int64  \n",
      " 1   person_url                           object \n",
      " 2   filepath                             object \n",
      " 3   disclosure_year                      int64  \n",
      " 4   notes                                object \n",
      " 5   date_created                         object \n",
      " 6   date_modified                        object \n",
      " 7   type                                 object \n",
      " 8   agreement_id                         float64\n",
      " 9   agree_date_raw                       object \n",
      " 10  parties_and_terms                    object \n",
      " 11  agree_redacted                       object \n",
      " 12  gift_id                              float64\n",
      " 13  gift_source                          object \n",
      " 14  gift_description                     object \n",
      " 15  gift_value                           object \n",
      " 16  gift_redacted                        object \n",
      " 17  investment_id                        float64\n",
      " 18  inv_description                      object \n",
      " 19  inv_redacted                         object \n",
      " 20  income_during_reporting_period_code  object \n",
      " 21  income_during_reporting_period_type  object \n",
      " 22  gross_value_code                     object \n",
      " 23  gross_value_method                   object \n",
      " 24  transaction_during_reporting_period  object \n",
      " 25  transaction_date_raw                 object \n",
      " 26  transaction_date                     object \n",
      " 27  transaction_value_code               object \n",
      " 28  transaction_gain_code                object \n",
      " 29  transaction_partner                  object \n",
      " 30  inv_has_inferred_values              object \n",
      " 31  non_investment_income_id             float64\n",
      " 32  non_inv_date_raw                     object \n",
      " 33  non_inv_source_type                  object \n",
      " 34  non_inv_income_amount                object \n",
      " 35  non_inv_redacted                     object \n",
      " 36  position_id                          float64\n",
      " 37  position                             object \n",
      " 38  organization_name                    object \n",
      " 39  position_redacted                    object \n",
      " 40  reimbursement_id                     float64\n",
      " 41  reimb_source                         object \n",
      " 42  reimb_location                       object \n",
      " 43  reimb_purpose                        float64\n",
      " 44  items_paid_or_provided               object \n",
      " 45  reimb_redacted                       object \n",
      " 46  spouse_income_id                     float64\n",
      " 47  sp_inc_source_type                   object \n",
      " 48  sp_inc_date_raw                      object \n",
      " 49  sp_inc_redacted                      object \n",
      "dtypes: float64(8), int64(2), object(40)\n",
      "memory usage: 770.5+ MB\n"
     ]
    }
   ],
   "source": [
    "# Import parquet file which has clean dates\n",
    "# First, define data path\n",
    "current_path = os.getcwd()\n",
    "parent_dir = os.path.dirname(current_path)\n",
    "grandparent_dir = os.path.dirname(parent_dir)\n",
    "data_dir = os.path.join(grandparent_dir, 'data')\n",
    "\n",
    "# parquet exists in data > financial_disc > intermediate_dfs\n",
    "parquet_path = os.path.join(data_dir, 'financial_disc', 'intermediate_dfs', 'financial_disc.parquet')\n",
    "df = pd.read_parquet(parquet_path)\n",
    "df.info()"
   ]
  },
  {
   "cell_type": "code",
   "execution_count": null,
   "metadata": {},
   "outputs": [],
   "source": [
    "# We first build our model using a sample of person_ids: we will use top 20 person_ids with max number of dockets\n",
    "\n"
   ]
  }
 ],
 "metadata": {
  "kernelspec": {
   "display_name": "judges-conflicts",
   "language": "python",
   "name": "judges-conflicts"
  },
  "language_info": {
   "codemirror_mode": {
    "name": "ipython",
    "version": 3
   },
   "file_extension": ".py",
   "mimetype": "text/x-python",
   "name": "python",
   "nbconvert_exporter": "python",
   "pygments_lexer": "ipython3",
   "version": "3.11.4"
  },
  "orig_nbformat": 4
 },
 "nbformat": 4,
 "nbformat_minor": 2
}
