{
 "cells": [
  {
   "cell_type": "code",
   "execution_count": 1,
   "metadata": {},
   "outputs": [],
   "source": [
    "# Importing packages\n",
    "import os\n",
    "import pandas as pd"
   ]
  },
  {
   "cell_type": "code",
   "execution_count": 2,
   "metadata": {},
   "outputs": [
    {
     "name": "stdout",
     "output_type": "stream",
     "text": [
      "Dockets data has shape: (194066, 35)\n"
     ]
    },
    {
     "name": "stderr",
     "output_type": "stream",
     "text": [
      "/var/folders/54/mhs5zkcs6zb1_y58hd7pczjc0000gn/T/ipykernel_65814/1952217655.py:9: DtypeWarning: Columns (10,13,19,24,26,31) have mixed types. Specify dtype option on import or set low_memory=False.\n",
      "  df_dockets = pd.read_csv(dockets_csv_path)\n"
     ]
    }
   ],
   "source": [
    "# Define path to import financial disclosure data\n",
    "current_path = os.getcwd()\n",
    "parent_dir = os.path.dirname(current_path)\n",
    "grandparent_dir = os.path.dirname(parent_dir)\n",
    "data_dir = os.path.join(grandparent_dir, 'data')\n",
    "\n",
    "# Define paths for dockets data\n",
    "dockets_csv_path = os.path.join(data_dir, 'dockets', 'intermediate_dfs', 'all_dockets_judges_w_fin_dis.csv')\n",
    "df_dockets = pd.read_csv(dockets_csv_path)\n",
    "print('Dockets data has shape:', df_dockets.shape)"
   ]
  },
  {
   "cell_type": "code",
   "execution_count": 3,
   "metadata": {},
   "outputs": [
    {
     "data": {
      "text/html": [
       "<div>\n",
       "<style scoped>\n",
       "    .dataframe tbody tr th:only-of-type {\n",
       "        vertical-align: middle;\n",
       "    }\n",
       "\n",
       "    .dataframe tbody tr th {\n",
       "        vertical-align: top;\n",
       "    }\n",
       "\n",
       "    .dataframe thead th {\n",
       "        text-align: right;\n",
       "    }\n",
       "</style>\n",
       "<table border=\"1\" class=\"dataframe\">\n",
       "  <thead>\n",
       "    <tr style=\"text-align: right;\">\n",
       "      <th></th>\n",
       "      <th>author_id</th>\n",
       "      <th>dateFiled</th>\n",
       "      <th>docketNumber</th>\n",
       "      <th>caseName</th>\n",
       "    </tr>\n",
       "  </thead>\n",
       "  <tbody>\n",
       "    <tr>\n",
       "      <th>0</th>\n",
       "      <td>2986</td>\n",
       "      <td>2011-08-29</td>\n",
       "      <td>2:11-cv-00084</td>\n",
       "      <td>Garcia v. Nationwide Mutual Insurance</td>\n",
       "    </tr>\n",
       "    <tr>\n",
       "      <th>1</th>\n",
       "      <td>341</td>\n",
       "      <td>2007-09-27</td>\n",
       "      <td>CV-05-BE-1324-W</td>\n",
       "      <td>Scarpulla v. Bayer Corp. Disability Plan</td>\n",
       "    </tr>\n",
       "    <tr>\n",
       "      <th>2</th>\n",
       "      <td>341</td>\n",
       "      <td>2003-02-28</td>\n",
       "      <td>2:02-cr-00352</td>\n",
       "      <td>Chazen v. Deloitte &amp; Touche, LLP</td>\n",
       "    </tr>\n",
       "    <tr>\n",
       "      <th>3</th>\n",
       "      <td>341</td>\n",
       "      <td>2008-05-29</td>\n",
       "      <td>2:08-cr-00220</td>\n",
       "      <td>State Farm Fire &amp; Casualty Co. v. Knoblett</td>\n",
       "    </tr>\n",
       "    <tr>\n",
       "      <th>4</th>\n",
       "      <td>341</td>\n",
       "      <td>2003-08-15</td>\n",
       "      <td>CV-00-BE-1795-NE</td>\n",
       "      <td>American Canoe Ass'n v. White</td>\n",
       "    </tr>\n",
       "  </tbody>\n",
       "</table>\n",
       "</div>"
      ],
      "text/plain": [
       "   author_id   dateFiled      docketNumber  \\\n",
       "0       2986  2011-08-29     2:11-cv-00084   \n",
       "1        341  2007-09-27   CV-05-BE-1324-W   \n",
       "2        341  2003-02-28     2:02-cr-00352   \n",
       "3        341  2008-05-29     2:08-cr-00220   \n",
       "4        341  2003-08-15  CV-00-BE-1795-NE   \n",
       "\n",
       "                                     caseName  \n",
       "0       Garcia v. Nationwide Mutual Insurance  \n",
       "1    Scarpulla v. Bayer Corp. Disability Plan  \n",
       "2            Chazen v. Deloitte & Touche, LLP  \n",
       "3  State Farm Fire & Casualty Co. v. Knoblett  \n",
       "4               American Canoe Ass'n v. White  "
      ]
     },
     "execution_count": 3,
     "metadata": {},
     "output_type": "execute_result"
    }
   ],
   "source": [
    "# Extracting dockets data\n",
    "docket_relevant_columns = [\n",
    "    'author_id', \n",
    "    'dateFiled',\n",
    "    'docketNumber',\n",
    "    'caseName']\n",
    "\n",
    "# Keep only docket relevant columns as defined above\n",
    "df_dockets = df_dockets[docket_relevant_columns]\n",
    "df_dockets.head()"
   ]
  },
  {
   "cell_type": "code",
   "execution_count": 4,
   "metadata": {},
   "outputs": [
    {
     "data": {
      "text/html": [
       "<div>\n",
       "<style scoped>\n",
       "    .dataframe tbody tr th:only-of-type {\n",
       "        vertical-align: middle;\n",
       "    }\n",
       "\n",
       "    .dataframe tbody tr th {\n",
       "        vertical-align: top;\n",
       "    }\n",
       "\n",
       "    .dataframe thead th {\n",
       "        text-align: right;\n",
       "    }\n",
       "</style>\n",
       "<table border=\"1\" class=\"dataframe\">\n",
       "  <thead>\n",
       "    <tr style=\"text-align: right;\">\n",
       "      <th></th>\n",
       "      <th>author_id</th>\n",
       "      <th>dateFiled</th>\n",
       "      <th>docketNumber</th>\n",
       "      <th>year</th>\n",
       "      <th>party1</th>\n",
       "      <th>party2</th>\n",
       "    </tr>\n",
       "  </thead>\n",
       "  <tbody>\n",
       "    <tr>\n",
       "      <th>0</th>\n",
       "      <td>2986</td>\n",
       "      <td>2011-08-29</td>\n",
       "      <td>2:11-cv-00084</td>\n",
       "      <td>2011</td>\n",
       "      <td>Garcia</td>\n",
       "      <td>Nationwide Mutual Insurance</td>\n",
       "    </tr>\n",
       "    <tr>\n",
       "      <th>1</th>\n",
       "      <td>341</td>\n",
       "      <td>2007-09-27</td>\n",
       "      <td>CV-05-BE-1324-W</td>\n",
       "      <td>2007</td>\n",
       "      <td>Scarpulla</td>\n",
       "      <td>Bayer Corp. Disability Plan</td>\n",
       "    </tr>\n",
       "    <tr>\n",
       "      <th>2</th>\n",
       "      <td>341</td>\n",
       "      <td>2003-02-28</td>\n",
       "      <td>2:02-cr-00352</td>\n",
       "      <td>2003</td>\n",
       "      <td>Chazen</td>\n",
       "      <td>Deloitte &amp; Touche, LLP</td>\n",
       "    </tr>\n",
       "    <tr>\n",
       "      <th>3</th>\n",
       "      <td>341</td>\n",
       "      <td>2008-05-29</td>\n",
       "      <td>2:08-cr-00220</td>\n",
       "      <td>2008</td>\n",
       "      <td>State Farm Fire &amp; Casualty Co.</td>\n",
       "      <td>Knoblett</td>\n",
       "    </tr>\n",
       "    <tr>\n",
       "      <th>4</th>\n",
       "      <td>341</td>\n",
       "      <td>2003-08-15</td>\n",
       "      <td>CV-00-BE-1795-NE</td>\n",
       "      <td>2003</td>\n",
       "      <td>American Canoe Ass'n</td>\n",
       "      <td>White</td>\n",
       "    </tr>\n",
       "  </tbody>\n",
       "</table>\n",
       "</div>"
      ],
      "text/plain": [
       "   author_id  dateFiled      docketNumber  year  \\\n",
       "0       2986 2011-08-29     2:11-cv-00084  2011   \n",
       "1        341 2007-09-27   CV-05-BE-1324-W  2007   \n",
       "2        341 2003-02-28     2:02-cr-00352  2003   \n",
       "3        341 2008-05-29     2:08-cr-00220  2008   \n",
       "4        341 2003-08-15  CV-00-BE-1795-NE  2003   \n",
       "\n",
       "                           party1                       party2  \n",
       "0                          Garcia  Nationwide Mutual Insurance  \n",
       "1                       Scarpulla  Bayer Corp. Disability Plan  \n",
       "2                          Chazen       Deloitte & Touche, LLP  \n",
       "3  State Farm Fire & Casualty Co.                     Knoblett  \n",
       "4            American Canoe Ass'n                        White  "
      ]
     },
     "execution_count": 4,
     "metadata": {},
     "output_type": "execute_result"
    }
   ],
   "source": [
    "# Extract year from dateFiled and party names from caseName\n",
    "# Extract year from dateFiled\n",
    "df_dockets['dateFiled'] = pd.to_datetime(df_dockets['dateFiled'])\n",
    "df_dockets['year'] = df_dockets['dateFiled'].dt.year\n",
    "\n",
    "# Extract party names from caseName\n",
    "df_dockets['party1'] = df_dockets['caseName'].str.split(' v. ').str[0]\n",
    "df_dockets['party2'] = df_dockets['caseName'].str.split(' v. ').str[1]\n",
    "\n",
    "# Drop caseName colum\n",
    "df_dockets = df_dockets.drop('caseName', axis=1)\n",
    "\n",
    "# Examine the dataframe\n",
    "df_dockets.head()"
   ]
  },
  {
   "cell_type": "code",
   "execution_count": 6,
   "metadata": {},
   "outputs": [],
   "source": [
    "# Save this dataframe for further analysis\n",
    "df_dockets.to_csv(os.path.join(data_dir, 'conflict','intermediate_dfs','disclosure_judges_w_party_names.csv'), index=False)"
   ]
  }
 ],
 "metadata": {
  "kernelspec": {
   "display_name": "judges-conflicts",
   "language": "python",
   "name": "judges-conflicts"
  },
  "language_info": {
   "codemirror_mode": {
    "name": "ipython",
    "version": 3
   },
   "file_extension": ".py",
   "mimetype": "text/x-python",
   "name": "python",
   "nbconvert_exporter": "python",
   "pygments_lexer": "ipython3",
   "version": "3.11.4"
  },
  "orig_nbformat": 4
 },
 "nbformat": 4,
 "nbformat_minor": 2
}
