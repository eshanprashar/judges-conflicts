{
 "cells": [
  {
   "cell_type": "code",
   "execution_count": 1,
   "metadata": {},
   "outputs": [],
   "source": [
    "# Importing required libraries\n",
    "import pandas as pd\n",
    "import os\n",
    "import glob"
   ]
  },
  {
   "cell_type": "code",
   "execution_count": 3,
   "metadata": {},
   "outputs": [],
   "source": [
    "# Setting up the working directory\n",
    "current_dir = os.getcwd()\n",
    "parent_dir = os.path.dirname(current_dir)\n",
    "grandparent_dir = os.path.dirname(parent_dir)\n",
    "fin_disc_data_dir = os.path.join(grandparent_dir, 'data/financial_disc')"
   ]
  },
  {
   "cell_type": "code",
   "execution_count": 5,
   "metadata": {},
   "outputs": [],
   "source": [
    "# Function to load data from the financial disclosure directory\n",
    "\n",
    "def load_data(data_dir):\n",
    "    '''\n",
    "    This function is not memory efficient, but for <100 csv files, should work fine\n",
    "    For example: this approach will have to be modified for docket/PACER data\n",
    "    '''\n",
    "    all_files = glob.glob(data_dir + \"/*.csv\")\n",
    "    print(f\"Found {len(all_files)} files in the directory\")\n",
    "    li = []\n",
    "    for filename in all_files:\n",
    "        try:\n",
    "            df = pd.read_csv(filename, index_col=None, header=0)\n",
    "            li.append(df)\n",
    "        except Exception as e:\n",
    "            print(f\"Error reading file {filename}: {e}\")\n",
    "    return pd.concat(li, axis=0, ignore_index=True)"
   ]
  },
  {
   "cell_type": "code",
   "execution_count": 6,
   "metadata": {},
   "outputs": [
    {
     "name": "stdout",
     "output_type": "stream",
     "text": [
      "Found 54 files in the directory\n"
     ]
    },
    {
     "name": "stderr",
     "output_type": "stream",
     "text": [
      "/var/folders/54/mhs5zkcs6zb1_y58hd7pczjc0000gn/T/ipykernel_96227/1404753717.py:13: DtypeWarning: Columns (24,25) have mixed types. Specify dtype option on import or set low_memory=False.\n",
      "  df = pd.read_csv(filename, index_col=None, header=0)\n"
     ]
    },
    {
     "name": "stdout",
     "output_type": "stream",
     "text": [
      "<class 'pandas.core.frame.DataFrame'>\n",
      "RangeIndex: 2015868 entries, 0 to 2015867\n",
      "Data columns (total 32 columns):\n",
      " #   Column                               Dtype  \n",
      "---  ------                               -----  \n",
      " 0   person_id                            int64  \n",
      " 1   person_url                           object \n",
      " 2   filepath                             object \n",
      " 3   disclosure_year                      int64  \n",
      " 4   notes                                object \n",
      " 5   type                                 object \n",
      " 6   date_raw                             object \n",
      " 7   parties_and_terms                    object \n",
      " 8   redacted                             bool   \n",
      " 9   description                          object \n",
      " 10  income_during_reporting_period_code  object \n",
      " 11  income_during_reporting_period_type  object \n",
      " 12  gross_value_code                     object \n",
      " 13  gross_value_method                   object \n",
      " 14  transaction_during_reporting_period  object \n",
      " 15  transaction_date_raw                 object \n",
      " 16  transaction_date                     object \n",
      " 17  transaction_value_code               object \n",
      " 18  transaction_gain_code                object \n",
      " 19  transaction_partner                  object \n",
      " 20  has_inferred_values                  object \n",
      " 21  source_type                          object \n",
      " 22  income_amount                        object \n",
      " 23  source                               object \n",
      " 24  location                             object \n",
      " 25  purpose                              object \n",
      " 26  items_paid_or_provided               object \n",
      " 27  agrement_id                          float64\n",
      " 28  investment_id                        float64\n",
      " 29  non_investment_income_id             float64\n",
      " 30  position_id                          float64\n",
      " 31  organization_name                    object \n",
      "dtypes: bool(1), float64(4), int64(2), object(25)\n",
      "memory usage: 478.7+ MB\n"
     ]
    }
   ],
   "source": [
    "# Loading files from the financial disclosure directory\n",
    "df_fin_disc = load_data(fin_disc_data_dir)\n",
    "\n",
    "# Examine the data\n",
    "df_fin_disc.info()"
   ]
  },
  {
   "cell_type": "code",
   "execution_count": 13,
   "metadata": {},
   "outputs": [
    {
     "name": "stdout",
     "output_type": "stream",
     "text": [
      "Number of unique persons in the dataset: 3349\n",
      "Number of unique disclosures in the dataset: 30243\n",
      "Number of unique investments in the dataset: 1899862\n"
     ]
    }
   ],
   "source": [
    "# Let us see how many unique persons, disclosures and investments are there in the dataset\n",
    "print(f\"Number of unique persons in the dataset: {df_fin_disc['person_id'].nunique()}\")\n",
    "print(f\"Number of unique disclosures in the dataset: {df_fin_disc['filepath'].nunique()}\")\n",
    "print(f\"Number of unique investments in the dataset: {df_fin_disc['investment_id'].nunique()}\")"
   ]
  },
  {
   "cell_type": "code",
   "execution_count": 8,
   "metadata": {},
   "outputs": [
    {
     "name": "stdout",
     "output_type": "stream",
     "text": [
      "<class 'pandas.core.frame.DataFrame'>\n",
      "Index: 37050 entries, 40 to 2015835\n",
      "Data columns (total 6 columns):\n",
      " #   Column             Non-Null Count  Dtype  \n",
      "---  ------             --------------  -----  \n",
      " 0   person_id          37050 non-null  int64  \n",
      " 1   filepath           37050 non-null  object \n",
      " 2   disclosure_year    37050 non-null  int64  \n",
      " 3   notes              24635 non-null  object \n",
      " 4   position_id        37050 non-null  float64\n",
      " 5   organization_name  36282 non-null  object \n",
      "dtypes: float64(1), int64(2), object(3)\n",
      "memory usage: 2.0+ MB\n"
     ]
    }
   ],
   "source": [
    "# Create a dataframe for just positions\n",
    "df_positions = df_fin_disc[df_fin_disc['type'] == 'position']\n",
    "columns_to_keep = ['person_id', 'filepath', 'disclosure_year', 'notes', 'position_id', 'organization_name']\n",
    "df_positions = df_positions[columns_to_keep]\n",
    "\n",
    "# Examine the dataframe\n",
    "df_positions.info()"
   ]
  },
  {
   "cell_type": "code",
   "execution_count": 9,
   "metadata": {},
   "outputs": [
    {
     "name": "stdout",
     "output_type": "stream",
     "text": [
      "Number of unique people: 2553\n",
      "Number of unique positions: 37050\n"
     ]
    }
   ],
   "source": [
    "# Let us see how many unique people and positions exist in the dataset\n",
    "print(f\"Number of unique people: {df_positions['person_id'].nunique()}\")\n",
    "print(f\"Number of unique positions: {df_positions['position_id'].nunique()}\")"
   ]
  }
 ],
 "metadata": {
  "kernelspec": {
   "display_name": "wang-ml-wDBqLrrb-py3.11",
   "language": "python",
   "name": "python3"
  },
  "language_info": {
   "codemirror_mode": {
    "name": "ipython",
    "version": 3
   },
   "file_extension": ".py",
   "mimetype": "text/x-python",
   "name": "python",
   "nbconvert_exporter": "python",
   "pygments_lexer": "ipython3",
   "version": "3.11.4"
  },
  "orig_nbformat": 4
 },
 "nbformat": 4,
 "nbformat_minor": 2
}
