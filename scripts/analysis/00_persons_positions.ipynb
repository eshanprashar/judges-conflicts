{
 "cells": [
  {
   "attachments": {},
   "cell_type": "markdown",
   "metadata": {},
   "source": [
    "### Script to analyse positions and people api data on CourtListener. Specific questions:\n",
    "1. How many people did we get data for? \n",
    "2. How many of these are judges?\n",
    "3. What is the average number of positions for judges? What does the distribution look like? How many positions do we have across years?\n",
    "4. What does the typical journey of a judge look like from their first position to a judge-ship?\n",
    "5. Which court(s) have the most representation in our data?"
   ]
  },
  {
   "cell_type": "code",
   "execution_count": 27,
   "metadata": {},
   "outputs": [],
   "source": [
    "# Importing the libraries\n",
    "import os\n",
    "import pandas as pd\n",
    "import glob\n",
    "import matplotlib.pyplot as plt"
   ]
  },
  {
   "cell_type": "code",
   "execution_count": 7,
   "metadata": {},
   "outputs": [
    {
     "name": "stdout",
     "output_type": "stream",
     "text": [
      "/Users/eshan23/eshanprashar_git_profile/judges-conflicts/data/persons_positions\n"
     ]
    }
   ],
   "source": [
    "# Define the current working directory and get the path to data files\n",
    "current_dir = os.getcwd()\n",
    "parent_dir = os.path.dirname(current_dir)\n",
    "grandparent_dir = os.path.dirname(parent_dir)\n",
    "\n",
    "# Define the path to the data files\n",
    "data_dir = os.path.join(grandparent_dir, 'data/persons_positions')\n",
    "print(data_dir)"
   ]
  },
  {
   "cell_type": "code",
   "execution_count": 10,
   "metadata": {},
   "outputs": [],
   "source": [
    "# Function to load and concatenate the csv files in our data directory defined above\n",
    "def load_data(data_dir):\n",
    "    '''\n",
    "    This function is not memory efficient, but for <100 csv files, should work fine\n",
    "    For example: this approach will have to be modified for docket/PACER data\n",
    "    '''\n",
    "    all_files = glob.glob(data_dir + \"/*.csv\")\n",
    "    print(f\"Found {len(all_files)} files\"\n",
    "    li = []\n",
    "    for filename in all_files:\n",
    "        try:\n",
    "            df = pd.read_csv(filename, index_col=None, header=0)\n",
    "            li.append(df)\n",
    "        except Exception as e:\n",
    "            print(f\"Error loading {filename}: {e}\")\n",
    "    return pd.concat(li, axis=0, ignore_index=True)"
   ]
  },
  {
   "cell_type": "code",
   "execution_count": 13,
   "metadata": {},
   "outputs": [
    {
     "name": "stdout",
     "output_type": "stream",
     "text": [
      "<class 'pandas.core.frame.DataFrame'>\n",
      "RangeIndex: 51281 entries, 0 to 51280\n",
      "Data columns (total 19 columns):\n",
      " #   Column                  Non-Null Count  Dtype  \n",
      "---  ------                  --------------  -----  \n",
      " 0   person_id               51281 non-null  int64  \n",
      " 1   name_first              51281 non-null  object \n",
      " 2   name_middle             43300 non-null  object \n",
      " 3   name_last               51281 non-null  object \n",
      " 4   political_affiliations  35456 non-null  object \n",
      " 5   race                    33919 non-null  object \n",
      " 6   position_url            51281 non-null  object \n",
      " 7   position_type           30056 non-null  object \n",
      " 8   job_title               21225 non-null  object \n",
      " 9   sector                  6764 non-null   float64\n",
      " 10  organization            13248 non-null  object \n",
      " 11  date_nominated          4274 non-null   object \n",
      " 12  date_start              50412 non-null  object \n",
      " 13  date_termination        42457 non-null  object \n",
      " 14  court_resource_url      22174 non-null  object \n",
      " 15  court_id                22174 non-null  object \n",
      " 16  court_short_name        22174 non-null  object \n",
      " 17  court_full_name         22174 non-null  object \n",
      " 18  court_url               20593 non-null  object \n",
      "dtypes: float64(1), int64(1), object(17)\n",
      "memory usage: 7.4+ MB\n"
     ]
    }
   ],
   "source": [
    "# Define the location of csv files\n",
    "path_name_csv = data_dir + '/positions_csv'\n",
    "\n",
    "# Load the data\n",
    "df_persons_positions = load_data(path_name_csv)\n",
    "\n",
    "# Examine the data obtained\n",
    "df_persons_positions.info()"
   ]
  },
  {
   "cell_type": "code",
   "execution_count": 21,
   "metadata": {},
   "outputs": [
    {
     "name": "stdout",
     "output_type": "stream",
     "text": [
      "Column: person_id has:\n",
      "15604 unique values\n",
      "0 null values\n",
      "=====================================\n",
      "Column: name_first has:\n",
      "2268 unique values\n",
      "0 null values\n",
      "=====================================\n",
      "Column: name_middle has:\n",
      "2429 unique values\n",
      "7981 null values\n",
      "=====================================\n",
      "Column: name_last has:\n",
      "8522 unique values\n",
      "0 null values\n",
      "=====================================\n",
      "Column: political_affiliations has:\n",
      "8 unique values\n",
      "15825 null values\n",
      "=====================================\n",
      "Column: race has:\n",
      "18 unique values\n",
      "17362 null values\n",
      "=====================================\n",
      "Column: position_url has:\n",
      "51281 unique values\n",
      "0 null values\n",
      "=====================================\n",
      "Column: position_type has:\n",
      "45 unique values\n",
      "21225 null values\n",
      "=====================================\n",
      "Column: job_title has:\n",
      "4439 unique values\n",
      "30056 null values\n",
      "=====================================\n",
      "Column: sector has:\n",
      "2 unique values\n",
      "44517 null values\n",
      "=====================================\n",
      "Column: organization has:\n",
      "6444 unique values\n",
      "38033 null values\n",
      "=====================================\n",
      "Column: date_nominated has:\n",
      "2133 unique values\n",
      "47007 null values\n",
      "=====================================\n",
      "Column: date_start has:\n",
      "7204 unique values\n",
      "869 null values\n",
      "=====================================\n",
      "Column: date_termination has:\n",
      "6259 unique values\n",
      "8824 null values\n",
      "=====================================\n",
      "Column: court_resource_url has:\n",
      "1033 unique values\n",
      "29107 null values\n",
      "=====================================\n",
      "Column: court_id has:\n",
      "1033 unique values\n",
      "29107 null values\n",
      "=====================================\n",
      "Column: court_short_name has:\n",
      "942 unique values\n",
      "29107 null values\n",
      "=====================================\n",
      "Column: court_full_name has:\n",
      "1033 unique values\n",
      "29107 null values\n",
      "=====================================\n",
      "Column: court_url has:\n",
      "759 unique values\n",
      "30688 null values\n",
      "=====================================\n"
     ]
    }
   ],
   "source": [
    "# Examining null values for each column\n",
    "for col in df_persons_positions.columns:\n",
    "    print(f\"Column: {col} has:\") \n",
    "    print(f\"{df_persons_positions[col].nunique()} unique values\")\n",
    "    print(f\"{df_persons_positions[col].isnull().sum()} null values\")\n",
    "    print(\"=====================================\")"
   ]
  },
  {
   "cell_type": "code",
   "execution_count": 18,
   "metadata": {},
   "outputs": [],
   "source": [
    "# Saving the data for manual inspection of columns\n",
    "# df_persons_positions.to_csv(\"sample.csv\", index=False)"
   ]
  },
  {
   "attachments": {},
   "cell_type": "markdown",
   "metadata": {},
   "source": [
    "### Observations from data analysis:\n",
    "1. For the ~21K null values in the column \"position_type\", there is a value in the column \"job_title\". The opposite is also true, which they are MECE\n",
    "2. Because of the point above, we should create a column called \"position\" which has value in either of the \"job_title\" or \"position_type\" columns\n",
    "3. When there's a value in position_type, the columns court_id, court_short_name and long_name are populated, they aren't when position is blank and job_title has values \n",
    "\n",
    "### Questions to start with:\n",
    "1. How many people did we get data for? -> 15,604 people \n",
    "2. How many of these are judges?\n",
    "3. What is the average number of positions for judges? What does the distribution look like? How many positions do we have across years?"
   ]
  },
  {
   "cell_type": "code",
   "execution_count": 26,
   "metadata": {},
   "outputs": [
    {
     "name": "stdout",
     "output_type": "stream",
     "text": [
      "Total unique positions are 4120\n",
      "Total unique positions with 'jud' in them are 235\n"
     ]
    }
   ],
   "source": [
    "# First, we add a new column in the dataframe combining values from \"position_type\" and \"job_title\"\n",
    "# If position_type is null, we will use \"job_title\" only and vice-versa\n",
    "\n",
    "df_persons_positions['position'] = df_persons_positions['position_type'].fillna('') + ' ' + df_persons_positions['job_title'].fillna('')\n",
    "\n",
    "# Next, we convert the \"position\" column to lowercase and remove any leading/trailing whitespaces\n",
    "df_persons_positions['position'] = df_persons_positions['position'].str.lower().str.strip()\n",
    "\n",
    "# Examining the unique values in the \"position\" column\n",
    "print(f\"Total unique positions are {df_persons_positions['position'].nunique()}\")\n",
    "\n",
    "# Total unique positions with the string \"jud\" in them\n",
    "print(f\"Total unique positions with 'jud' in them are {df_persons_positions[df_persons_positions['position'].str.contains('jud', na=False)]['position'].nunique()}\")"
   ]
  },
  {
   "cell_type": "code",
   "execution_count": 30,
   "metadata": {},
   "outputs": [
    {
     "name": "stdout",
     "output_type": "stream",
     "text": [
      "Total unique person_ids with 'jud' in their positions are 14279\n",
      "Average number of positions per person_id is 3.29\n"
     ]
    }
   ],
   "source": [
    "# Now let's count unique number of unique person_ids with the string \"jud\" in their positions\n",
    "num_judges = df_persons_positions[df_persons_positions['position'].str.contains('jud', na=False)]['person_id'].nunique()\n",
    "print(f\"Total unique person_ids with 'jud' in their positions are {num_judges}\")\n",
    "\n",
    "# Let's find the average number of positions (rows) per person_id\n",
    "avg_positions = df_persons_positions.groupby('person_id').size().mean()\n",
    "print(f\"Average number of positions per person_id is {avg_positions.round(2)}\")"
   ]
  },
  {
   "cell_type": "code",
   "execution_count": 36,
   "metadata": {},
   "outputs": [
    {
     "data": {
      "image/png": "[encoded data removed]",
      "text/plain": [
       "<Figure size 800x400 with 1 Axes>"
      ]
     },
     "metadata": {},
     "output_type": "display_data"
    }
   ],
   "source": [
    "# Let's also plot the distribution of rows (positions) for each person_id\n",
    "plt.figure(figsize=(8, 4))\n",
    "df_persons_positions.groupby('person_id').size().plot(kind='hist', bins=100)\n",
    "plt.xlabel('Number of positions')\n",
    "plt.ylabel('Number of person_ids')\n",
    "plt.title('Distribution of positions per person_id')\n",
    "plt.show()"
   ]
  }
 ],
 "metadata": {
  "kernelspec": {
   "display_name": "Python (wang-ml-py3.11)",
   "language": "python",
   "name": "wang-ml-py3.11"
  },
  "language_info": {
   "codemirror_mode": {
    "name": "ipython",
    "version": 3
   },
   "file_extension": ".py",
   "mimetype": "text/x-python",
   "name": "python",
   "nbconvert_exporter": "python",
   "pygments_lexer": "ipython3",
   "version": "3.11.4"
  },
  "orig_nbformat": 4
 },
 "nbformat": 4,
 "nbformat_minor": 2
}
