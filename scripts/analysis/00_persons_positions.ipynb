{
 "cells": [
  {
   "attachments": {},
   "cell_type": "markdown",
   "metadata": {},
   "source": [
    "Script to "
   ]
  }
 ],
 "metadata": {
  "kernelspec": {
   "display_name": "Python (wang-ml-py3.11)",
   "language": "python",
   "name": "wang-ml-py3.11"
  },
  "language_info": {
   "name": "python",
   "version": "3.11.4"
  },
  "orig_nbformat": 4
 },
 "nbformat": 4,
 "nbformat_minor": 2
}
