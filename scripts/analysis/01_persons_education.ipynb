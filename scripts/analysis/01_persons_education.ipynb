{
 "cells": [
  {
   "cell_type": "code",
   "execution_count": 12,
   "metadata": {},
   "outputs": [],
   "source": [
    "# Importing required libraries\n",
    "import pandas as pd\n",
    "import os\n",
    "import glob"
   ]
  },
  {
   "cell_type": "code",
   "execution_count": 9,
   "metadata": {},
   "outputs": [
    {
     "name": "stdout",
     "output_type": "stream",
     "text": [
      "/Users/eshan23/eshanprashar_git_profile/judges-conflicts/data/educations\n"
     ]
    }
   ],
   "source": [
    "# Importing path for the data\n",
    "current_dir = os.getcwd()\n",
    "parent_dir = os.path.dirname(current_dir)\n",
    "grandparent_dir = os.path.dirname(parent_dir)\n",
    "\n",
    "# Define the path to the data files\n",
    "data_dir = os.path.join(grandparent_dir, 'data/educations')\n",
    "print(data_dir)"
   ]
  },
  {
   "cell_type": "code",
   "execution_count": 8,
   "metadata": {},
   "outputs": [],
   "source": [
    "# Function to load and concatenate the csv files in our data directory defined above\n",
    "def load_data(data_dir):\n",
    "    '''\n",
    "    This function is not memory efficient, but for <100 csv files, should work fine\n",
    "    For example: this approach will have to be modified for docket/PACER data\n",
    "    '''\n",
    "    all_files = glob.glob(data_dir + \"/*.csv\")\n",
    "    print(f\"Found {len(all_files)} files\")\n",
    "    li = []\n",
    "    for filename in all_files:\n",
    "        try:\n",
    "            df = pd.read_csv(filename, index_col=None, header=0)\n",
    "            li.append(df)\n",
    "        except Exception as e:\n",
    "            print(f\"Error loading {filename}: {e}\")\n",
    "    return pd.concat(li, axis=0, ignore_index=True)"
   ]
  },
  {
   "cell_type": "code",
   "execution_count": 13,
   "metadata": {},
   "outputs": [
    {
     "name": "stdout",
     "output_type": "stream",
     "text": [
      "Found 7 files\n",
      "<class 'pandas.core.frame.DataFrame'>\n",
      "RangeIndex: 11520 entries, 0 to 11519\n",
      "Data columns (total 7 columns):\n",
      " #   Column         Non-Null Count  Dtype  \n",
      "---  ------         --------------  -----  \n",
      " 0   education_id   11520 non-null  int64  \n",
      " 1   school_id      11520 non-null  int64  \n",
      " 2   school_name    11520 non-null  object \n",
      " 3   person_url     11489 non-null  object \n",
      " 4   degree_level   11326 non-null  object \n",
      " 5   degree_detail  3309 non-null   object \n",
      " 6   degree_year    6697 non-null   float64\n",
      "dtypes: float64(1), int64(2), object(4)\n",
      "memory usage: 630.1+ KB\n"
     ]
    }
   ],
   "source": [
    "# Define the location of csv files\n",
    "path_name_csv = data_dir # our data directory doesn't have any subdirectories; this is where all csv files lie\n",
    "\n",
    "# Load the data\n",
    "df_educations = load_data(path_name_csv)\n",
    "\n",
    "# Examine the data obtained\n",
    "df_educations.info()"
   ]
  },
  {
   "cell_type": "code",
   "execution_count": 14,
   "metadata": {},
   "outputs": [
    {
     "name": "stdout",
     "output_type": "stream",
     "text": [
      "Column: education_id has:\n",
      "11520 unique values\n",
      "0 null values\n",
      "=====================================\n",
      "Column: school_id has:\n",
      "887 unique values\n",
      "0 null values\n",
      "=====================================\n",
      "Column: school_name has:\n",
      "886 unique values\n",
      "0 null values\n",
      "=====================================\n",
      "Column: person_url has:\n",
      "6537 unique values\n",
      "31 null values\n",
      "=====================================\n",
      "Column: degree_level has:\n",
      "11 unique values\n",
      "194 null values\n",
      "=====================================\n",
      "Column: degree_detail has:\n",
      "510 unique values\n",
      "8211 null values\n",
      "=====================================\n",
      "Column: degree_year has:\n",
      "213 unique values\n",
      "4823 null values\n",
      "=====================================\n"
     ]
    }
   ],
   "source": [
    "# Examining null values for each column\n",
    "for col in df_educations.columns:\n",
    "    print(f\"Column: {col} has:\") \n",
    "    print(f\"{df_educations[col].nunique()} unique values\")\n",
    "    print(f\"{df_educations[col].isnull().sum()} null values\")\n",
    "    print(\"=====================================\")"
   ]
  },
  {
   "cell_type": "code",
   "execution_count": 20,
   "metadata": {},
   "outputs": [
    {
     "data": {
      "text/html": [
       "<div>\n",
       "<style scoped>\n",
       "    .dataframe tbody tr th:only-of-type {\n",
       "        vertical-align: middle;\n",
       "    }\n",
       "\n",
       "    .dataframe tbody tr th {\n",
       "        vertical-align: top;\n",
       "    }\n",
       "\n",
       "    .dataframe thead th {\n",
       "        text-align: right;\n",
       "    }\n",
       "</style>\n",
       "<table border=\"1\" class=\"dataframe\">\n",
       "  <thead>\n",
       "    <tr style=\"text-align: right;\">\n",
       "      <th></th>\n",
       "      <th>education_id</th>\n",
       "      <th>school_id</th>\n",
       "      <th>school_name</th>\n",
       "      <th>person_url</th>\n",
       "      <th>degree_level</th>\n",
       "      <th>degree_detail</th>\n",
       "      <th>degree_year</th>\n",
       "      <th>person_id</th>\n",
       "    </tr>\n",
       "  </thead>\n",
       "  <tbody>\n",
       "    <tr>\n",
       "      <th>0</th>\n",
       "      <td>12867</td>\n",
       "      <td>3681</td>\n",
       "      <td>West Virginia University</td>\n",
       "      <td>https://www.courtlistener.com/api/rest/v4/peop...</td>\n",
       "      <td>jd</td>\n",
       "      <td>NaN</td>\n",
       "      <td>NaN</td>\n",
       "      <td>9009</td>\n",
       "    </tr>\n",
       "    <tr>\n",
       "      <th>1</th>\n",
       "      <td>12866</td>\n",
       "      <td>4581</td>\n",
       "      <td>Lewis &amp; Clark College</td>\n",
       "      <td>https://www.courtlistener.com/api/rest/v4/peop...</td>\n",
       "      <td>jd</td>\n",
       "      <td>NaN</td>\n",
       "      <td>NaN</td>\n",
       "      <td>16222</td>\n",
       "    </tr>\n",
       "    <tr>\n",
       "      <th>2</th>\n",
       "      <td>12865</td>\n",
       "      <td>5415</td>\n",
       "      <td>University of Washington-Seattle Campus</td>\n",
       "      <td>https://www.courtlistener.com/api/rest/v4/peop...</td>\n",
       "      <td>jd</td>\n",
       "      <td>NaN</td>\n",
       "      <td>NaN</td>\n",
       "      <td>16221</td>\n",
       "    </tr>\n",
       "    <tr>\n",
       "      <th>3</th>\n",
       "      <td>12864</td>\n",
       "      <td>3556</td>\n",
       "      <td>University of Minnesota-Twin Cities</td>\n",
       "      <td>https://www.courtlistener.com/api/rest/v4/peop...</td>\n",
       "      <td>jd</td>\n",
       "      <td>NaN</td>\n",
       "      <td>NaN</td>\n",
       "      <td>16220</td>\n",
       "    </tr>\n",
       "    <tr>\n",
       "      <th>4</th>\n",
       "      <td>12863</td>\n",
       "      <td>3899</td>\n",
       "      <td>CUNY Bernard M Baruch College</td>\n",
       "      <td>https://www.courtlistener.com/api/rest/v4/peop...</td>\n",
       "      <td>ba</td>\n",
       "      <td>NaN</td>\n",
       "      <td>NaN</td>\n",
       "      <td>16219</td>\n",
       "    </tr>\n",
       "  </tbody>\n",
       "</table>\n",
       "</div>"
      ],
      "text/plain": [
       "   education_id  school_id                              school_name  \\\n",
       "0         12867       3681                 West Virginia University   \n",
       "1         12866       4581                    Lewis & Clark College   \n",
       "2         12865       5415  University of Washington-Seattle Campus   \n",
       "3         12864       3556      University of Minnesota-Twin Cities   \n",
       "4         12863       3899            CUNY Bernard M Baruch College   \n",
       "\n",
       "                                          person_url degree_level  \\\n",
       "0  https://www.courtlistener.com/api/rest/v4/peop...           jd   \n",
       "1  https://www.courtlistener.com/api/rest/v4/peop...           jd   \n",
       "2  https://www.courtlistener.com/api/rest/v4/peop...           jd   \n",
       "3  https://www.courtlistener.com/api/rest/v4/peop...           jd   \n",
       "4  https://www.courtlistener.com/api/rest/v4/peop...           ba   \n",
       "\n",
       "  degree_detail  degree_year person_id  \n",
       "0           NaN          NaN      9009  \n",
       "1           NaN          NaN     16222  \n",
       "2           NaN          NaN     16221  \n",
       "3           NaN          NaN     16220  \n",
       "4           NaN          NaN     16219  "
      ]
     },
     "execution_count": 20,
     "metadata": {},
     "output_type": "execute_result"
    }
   ],
   "source": [
    "# Extract and add the person id from the person url\n",
    "# Correctly extract person_id from person_url, handling null values\n",
    "df_educations['person_id'] = df_educations['person_url'].apply(lambda x: x.strip('/').split('/')[-1] if pd.notnull(x) else None)\n",
    "df_educations.head()"
   ]
  },
  {
   "cell_type": "code",
   "execution_count": 21,
   "metadata": {},
   "outputs": [],
   "source": [
    "# Saving the data for manual inspection of columns\n",
    "# df_educations.to_csv(\"sample.csv\", index=False)"
   ]
  },
  {
   "attachments": {},
   "cell_type": "markdown",
   "metadata": {},
   "source": [
    "### Questions to have in mind before analysis:\n",
    "1. How many unique people do we have data for?\n",
    "2. What % of these are judges (searching required in positions dataframe)?\n",
    "3. Which universities are the biggest feeders into US judicial system?"
   ]
  },
  {
   "attachments": {},
   "cell_type": "markdown",
   "metadata": {},
   "source": []
  }
 ],
 "metadata": {
  "kernelspec": {
   "display_name": "wang-ml-wDBqLrrb-py3.11",
   "language": "python",
   "name": "python3"
  },
  "language_info": {
   "codemirror_mode": {
    "name": "ipython",
    "version": 3
   },
   "file_extension": ".py",
   "mimetype": "text/x-python",
   "name": "python",
   "nbconvert_exporter": "python",
   "pygments_lexer": "ipython3",
   "version": "3.11.4"
  },
  "orig_nbformat": 4
 },
 "nbformat": 4,
 "nbformat_minor": 2
}
