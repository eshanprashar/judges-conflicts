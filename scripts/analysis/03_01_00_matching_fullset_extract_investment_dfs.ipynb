{
 "cells": [
  {
   "cell_type": "code",
   "execution_count": 1,
   "metadata": {},
   "outputs": [],
   "source": [
    "# Importing packages\n",
    "import os\n",
    "import pandas as pd"
   ]
  },
  {
   "cell_type": "code",
   "execution_count": 4,
   "metadata": {},
   "outputs": [
    {
     "name": "stdout",
     "output_type": "stream",
     "text": [
      "Investments data has shape: (2019751, 50)\n"
     ]
    }
   ],
   "source": [
    "# Define path to import financial disclosure data\n",
    "current_path = os.getcwd()\n",
    "parent_dir = os.path.dirname(current_path)\n",
    "grandparent_dir = os.path.dirname(parent_dir)\n",
    "data_dir = os.path.join(grandparent_dir, 'data')\n",
    "\n",
    "# Define paths for financial disclosure data\n",
    "investments_parquet_path = os.path.join(data_dir, 'financial_disc', 'intermediate_dfs', 'financial_disc.parquet')\n",
    "df_investments = pd.read_parquet(investments_parquet_path)\n",
    "\n",
    "print('Investments data has shape:', df_investments.shape)"
   ]
  },
  {
   "cell_type": "code",
   "execution_count": 5,
   "metadata": {},
   "outputs": [
    {
     "name": "stdout",
     "output_type": "stream",
     "text": [
      "<class 'pandas.core.frame.DataFrame'>\n",
      "RangeIndex: 2019751 entries, 0 to 2019750\n",
      "Data columns (total 4 columns):\n",
      " #   Column           Dtype  \n",
      "---  ------           -----  \n",
      " 0   person_id        int64  \n",
      " 1   disclosure_year  int64  \n",
      " 2   investment_id    float64\n",
      " 3   inv_description  object \n",
      "dtypes: float64(1), int64(2), object(1)\n",
      "memory usage: 61.6+ MB\n"
     ]
    }
   ],
   "source": [
    "# Extracting investment data\n",
    "# Keep relevant columns for investment description string matching\n",
    "investment_analysis_columns = [\n",
    "    'person_id',\n",
    "    'disclosure_year',\n",
    "    'investment_id',\n",
    "    'inv_description']\n",
    "\n",
    "# Keep only investment relevant columns as defined above\n",
    "df_investments = df_investments[investment_analysis_columns]\n",
    "df_investments.info()"
   ]
  },
  {
   "cell_type": "code",
   "execution_count": 7,
   "metadata": {},
   "outputs": [
    {
     "name": "stdout",
     "output_type": "stream",
     "text": [
      "Investments data saved to: /Users/eshan23/eshanprashar_git_profile/judges-conflicts/data/conflict/intermediate_dfs/investments.csv\n"
     ]
    }
   ],
   "source": [
    "# Save this data to a csv file\n",
    "investments_csv_path = os.path.join(data_dir, 'conflict', 'intermediate_dfs', 'investments.csv')\n",
    "df_investments.to_csv(investments_csv_path, index=False)\n",
    "print('Investments data saved to:', investments_csv_path)"
   ]
  }
 ],
 "metadata": {
  "kernelspec": {
   "display_name": "judges-conflicts",
   "language": "python",
   "name": "judges-conflicts"
  },
  "language_info": {
   "codemirror_mode": {
    "name": "ipython",
    "version": 3
   },
   "file_extension": ".py",
   "mimetype": "text/x-python",
   "name": "python",
   "nbconvert_exporter": "python",
   "pygments_lexer": "ipython3",
   "version": "3.11.4"
  },
  "orig_nbformat": 4
 },
 "nbformat": 4,
 "nbformat_minor": 2
}
