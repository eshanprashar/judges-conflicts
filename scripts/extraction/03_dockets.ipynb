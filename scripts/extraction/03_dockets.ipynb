{
 "cells": [
  {
   "attachments": {},
   "cell_type": "markdown",
   "metadata": {},
   "source": [
    "### Notebook to fetch docket data"
   ]
  },
  {
   "cell_type": "code",
   "execution_count": 2,
   "metadata": {},
   "outputs": [],
   "source": [
    "# Importing libraries\n",
    "import requests\n",
    "import json\n",
    "import csv\n",
    "import string\n",
    "from utils import api_token"
   ]
  },
  {
   "cell_type": "code",
   "execution_count": 3,
   "metadata": {},
   "outputs": [],
   "source": [
    "# Function to create a session with the API token\n",
    "def make_session():\n",
    "    s = requests.session()\n",
    "    s.headers.update({\"Authorization\": f\"Token {api_token}\"})\n",
    "    return s"
   ]
  },
  {
   "cell_type": "code",
   "execution_count": 4,
   "metadata": {},
   "outputs": [],
   "source": [
    "# Function to fetch data from the API endpoint with pagination handling for a limited number of pages\n",
    "def fetch_data(url,start_page,max_pages):\n",
    "    session = make_session()\n",
    "    all_data = []\n",
    "    page_count = 0\n",
    "    \n",
    "    while url and page_count < max_pages:\n",
    "        response = session.get(url)\n",
    "        \n",
    "        if response.status_code != 200:\n",
    "            print(f\"Error: {response.status_code}, {response.text}\")\n",
    "            break\n",
    "        \n",
    "        data = response.json()\n",
    "        all_data.extend(data['results']) # append data from the current page to the list\n",
    "\n",
    "        if 'next' in data and data['next'] is not None: # next is the key for the next page\n",
    "            url = data['next']\n",
    "            page_count += 1\n",
    "        else:\n",
    "            break\n",
    "    \n",
    "    # testing: save data to a json file\n",
    "    with open('testing_data_fetch.json', 'w') as f:\n",
    "        json.dump(all_data, f)\n",
    "    \n",
    "    print(f\"Total number of pages fetched: {page_count} starting from page {start_page}\")\n",
    "    return url, all_data"
   ]
  },
  {
   "cell_type": "code",
   "execution_count": 9,
   "metadata": {},
   "outputs": [],
   "source": [
    "# Function to process and flatten the data\n",
    "def process_data(data):\n",
    "    processed_data = []  # processed data is a list of elements, each element is a dictionary\n",
    "    for item in data: # data is the list of \"results\" from the API response; each item in the list is an \"docket\" \n",
    "        entry = {\n",
    "            \"resource_uri\": item[\"resource_uri\"],\n",
    "            \"id\": item[\"id\"],\n",
    "            \"court\": item[\"court\"], \n",
    "            \"court_id\": item[\"court_id\"],\n",
    "            \"original_court_info\": item[\"original_court_info\"],\n",
    "            \"idb_data\": item[\"idb_data\"],\n",
    "            \"assigned_to\": item[\"assigned_to\"],\n",
    "            \"referred_to\": item[\"referred_to\"],\n",
    "            \"absolute_url\": item[\"absolute_url\"],\n",
    "            \"date_created\": item[\"date_created\"],\n",
    "            \"date_modified\": item[\"date_modified\"],\n",
    "            \"source\": item[\"source\"],\n",
    "            \"appeal_from_str\": item[\"appeal_from_str\"],\n",
    "            \"assigned_to_str\": item[\"assigned_to_str\"],\n",
    "            \"referred_to_str\": item[\"referred_to_str\"],\n",
    "            \"panel_str\": item[\"panel_str\"],\n",
    "            \"date_last_index\": item[\"date_last_index\"],\n",
    "            \"date_cert_granted\": item[\"date_cert_granted\"],\n",
    "            \"date_cert_denied\": item[\"date_cert_denied\"],   \n",
    "            \"date_argued\": item[\"date_argued\"],\n",
    "            \"date_reargued\": item[\"date_reargued\"],\n",
    "            \"date_reargument_denied\": item[\"date_reargument_denied\"],\n",
    "            \"date_filed\": item[\"date_filed\"],\n",
    "            \"date_terminated\": item[\"date_terminated\"], \n",
    "            \"date_last_filing\": item[\"date_last_filing\"],\n",
    "            \"case_name_short\": item[\"case_name_short\"],\n",
    "            \"case_name\": item[\"case_name\"],\n",
    "            \"case_name_full\": item[\"case_name_full\"],\n",
    "            \"slug\": item[\"slug\"],\n",
    "            \"docket_number\": item[\"docket_number\"],\n",
    "            \"docket_number_core\": item[\"docket_number_core\"],\n",
    "            \"federal_dn_office_code\": item[\"federal_dn_office_code\"],\n",
    "            \"federal_dn_case_type\": item[\"federal_dn_case_type\"],\n",
    "            \"federal_dn_judge_initials_assigned\": item[\"federal_dn_judge_initials_assigned\"],\n",
    "            \"federal_dn_judge_initials_referred\": item[\"federal_dn_judge_initials_referred\"],\n",
    "            \"federal_defendant_number\": item[\"federal_defendant_number\"],\n",
    "            \"pacer_case_id\": item[\"pacer_case_id\"],\n",
    "            \"cause\": item[\"cause\"],\n",
    "            \"nature_of_suit\": item[\"nature_of_suit\"],\n",
    "            \"jury_demand\": item[\"jury_demand\"],\n",
    "            \"jurisdiction_type\": item[\"jurisdiction_type\"],\n",
    "            \"appellate_fee_status\": item[\"appellate_fee_status\"],\n",
    "            \"appellate_case_type_information\": item[\"appellate_case_type_information\"],\n",
    "            \"mdl_status\": item[\"mdl_status\"],\n",
    "            \"filepath_ia\": item[\"filepath_ia\"],\n",
    "            \"filepath_ia_json\": item[\"filepath_ia_json\"],\n",
    "            \"ia_upload_failure_count\": item[\"ia_upload_failure_count\"],\n",
    "            \"ia_needs_upload\": item[\"ia_needs_upload\"],\n",
    "            \"ia_date_first_change\": item[\"ia_date_first_change\"],\n",
    "            \"date_blocked\": item[\"date_blocked\"],\n",
    "            \"blocked\": item[\"blocked\"],\n",
    "            \"appeal_from\": item[\"appeal_from\"],\n",
    "            \"parent_docket\": item[\"parent_docket\"],\n",
    "            \"tags\": item[\"tags\"],\n",
    "            \"panel\": item[\"panel\"]\n",
    "        }\n",
    "        processed_data.append(entry)\n",
    "    print(f\"Total number of entries processed: {len(processed_data)}\")\n",
    "    return processed_data"
   ]
  },
  {
   "cell_type": "code",
   "execution_count": 11,
   "metadata": {},
   "outputs": [],
   "source": [
    "# Function to save the data to a CSV file\n",
    "def save_to_csv(data, filename):\n",
    "    with open(filename, 'w', newline='') as csvfile: # check fields above - should be the same\n",
    "        fieldnames = data[0].keys() # get the keys of the first element in the list\n",
    "        writer = csv.DictWriter(csvfile, fieldnames=fieldnames)\n",
    "        writer.writeheader()\n",
    "        for item in data:\n",
    "            writer.writerow(item)\n",
    "    print(f\"Data saved to {filename}\")"
   ]
  },
  {
   "cell_type": "code",
   "execution_count": 12,
   "metadata": {},
   "outputs": [
    {
     "name": "stdout",
     "output_type": "stream",
     "text": [
      "Total number of pages fetched: 50 starting from page 1\n",
      "Total number of entries processed: 1000\n",
      "Data saved to educations_1-51.csv\n",
      "Fetched, processed and saved data for pages 1 to 51!\n"
     ]
    }
   ],
   "source": [
    "# Define the URL\n",
    "api_name = \"dockets\"\n",
    "base_url = f\"https://www.courtlistener.com/api/rest/v4/{api_name}/\" # updated the API to v4 from v3\n",
    "\n",
    "# Fetch data for 50 pages\n",
    "start_page = 1\n",
    "max_pages = 50\n",
    "while start_page <= max_pages: \n",
    "    url = base_url\n",
    "    base_url, data = fetch_data(url,start_page, max_pages)\n",
    "    processed_data = process_data(data)\n",
    "    save_to_csv(processed_data, f\"{api_name}_{start_page}-{start_page + max_pages}.csv\")\n",
    "    print(f\"Fetched, processed and saved data for pages {start_page} to {start_page + max_pages}!\")\n",
    "    start_page += max_pages"
   ]
  }
 ],
 "metadata": {
  "kernelspec": {
   "display_name": "judges-conflicts",
   "language": "python",
   "name": "judges-conflicts"
  },
  "language_info": {
   "codemirror_mode": {
    "name": "ipython",
    "version": 3
   },
   "file_extension": ".py",
   "mimetype": "text/x-python",
   "name": "python",
   "nbconvert_exporter": "python",
   "pygments_lexer": "ipython3",
   "version": "3.11.4"
  },
  "orig_nbformat": 4
 },
 "nbformat": 4,
 "nbformat_minor": 2
}
