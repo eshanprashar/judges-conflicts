{
 "cells": [
  {
   "cell_type": "code",
   "execution_count": 8,
   "metadata": {},
   "outputs": [],
   "source": [
    "# Importing libraries\n",
    "import sys\n",
    "import os\n",
    "import pandas as pd\n",
    "import timeit\n",
    "import pyarrow.parquet as pq\n",
    "import requests\n",
    "import glob\n",
    "import time\n",
    "import json\n",
    "import string\n",
    "from courtlistener_scraper_v2 import CLScraper\n",
    "from utils import * "
   ]
  },
  {
   "cell_type": "code",
   "execution_count": 9,
   "metadata": {},
   "outputs": [
    {
     "name": "stdout",
     "output_type": "stream",
     "text": [
      "Found .env file at /Users/eshan23/eshanprashar_git_profile/judges-conflicts/token.env\n"
     ]
    }
   ],
   "source": [
    "positions_scraper = CLScraper(get_api_token())"
   ]
  },
  {
   "cell_type": "code",
   "execution_count": 11,
   "metadata": {},
   "outputs": [
    {
     "name": "stdout",
     "output_type": "stream",
     "text": [
      "Log file created at logs/positions_log.txt\n",
      "Fetching data from page 110...\n",
      "Request successful with code 200! Now, fetching page 110...\n",
      "Total items successfully fetched from page 110: 20\n",
      "Total number of entries processed: 20\n",
      "Data directory set to /Users/eshan23/eshanprashar_git_profile/judges-conflicts/data/positions\n",
      "Data saved to /Users/eshan23/eshanprashar_git_profile/judges-conflicts/data/positions/positions_page_110.csv\n",
      "Data saved to /Users/eshan23/eshanprashar_git_profile/judges-conflicts/data/positions/positions_page_110.csv\n",
      "Next URL and page number saved to logs/positions_log.txt\n",
      "Fetching data from page 111...\n",
      "Request successful with code 200! Now, fetching page 111...\n",
      "Total items successfully fetched from page 111: 40\n",
      "Next URL and page number saved to logs/positions_log.txt\n",
      "Fetching data from page 112...\n",
      "Request successful with code 200! Now, fetching page 112...\n",
      "Total items successfully fetched from page 112: 60\n",
      "Next URL and page number saved to logs/positions_log.txt\n",
      "Fetching data from page 113...\n",
      "Request successful with code 200! Now, fetching page 113...\n",
      "Total items successfully fetched from page 113: 80\n",
      "Next URL and page number saved to logs/positions_log.txt\n",
      "Fetching data from page 114...\n",
      "Request successful with code 200! Now, fetching page 114...\n",
      "Total items successfully fetched from page 114: 100\n",
      "Next URL and page number saved to logs/positions_log.txt\n",
      "Fetching data from page 115...\n",
      "Request successful with code 200! Now, fetching page 115...\n",
      "Total items successfully fetched from page 115: 120\n",
      "Next URL and page number saved to logs/positions_log.txt\n",
      "Fetching data from page 116...\n",
      "Process interrupted! Fetching stopped.\n"
     ]
    }
   ],
   "source": [
    "try:\n",
    "    positions_data = positions_scraper.fetch_positions()\n",
    "except KeyboardInterrupt:\n",
    "    print(\"Process interrupted! Fetching stopped.\")"
   ]
  },
  {
   "cell_type": "code",
   "execution_count": 22,
   "metadata": {},
   "outputs": [
    {
     "name": "stdout",
     "output_type": "stream",
     "text": [
      "\"https://www.courtlistener.com/api/rest/v4/positions/?cursor=cD01MjYyNQ%3D%3D\"\n",
      "81\n"
     ]
    }
   ],
   "source": [
    "path = '/Users/eshan23/eshanprashar_git_profile/judges-conflicts/data/logs/logs_tracker.txt'\n",
    "with open(path, 'r') as f:\n",
    "    log_content = f.read().strip()\n",
    "    last_page_url = log_content.split('\\n')[0].split(\"Next URL: \")[-1].strip()\n",
    "    last_int = int(log_content.split('\\n')[1].split(\":\")[-1].strip())\n",
    "\n",
    "print(last_page_url)\n",
    "print(last_int)"
   ]
  }
 ],
 "metadata": {
  "kernelspec": {
   "display_name": "judges-conflicts",
   "language": "python",
   "name": "judges-conflicts"
  },
  "language_info": {
   "codemirror_mode": {
    "name": "ipython",
    "version": 3
   },
   "file_extension": ".py",
   "mimetype": "text/x-python",
   "name": "python",
   "nbconvert_exporter": "python",
   "pygments_lexer": "ipython3",
   "version": "3.11.4"
  },
  "orig_nbformat": 4
 },
 "nbformat": 4,
 "nbformat_minor": 2
}
