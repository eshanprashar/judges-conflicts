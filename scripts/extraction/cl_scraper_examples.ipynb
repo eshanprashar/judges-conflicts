{
 "cells": [
  {
   "cell_type": "code",
   "execution_count": 5,
   "metadata": {},
   "outputs": [],
   "source": [
    "# Importing libraries\n",
    "import sys\n",
    "import os\n",
    "import pandas as pd\n",
    "import timeit\n",
    "import pyarrow.parquet as pq\n",
    "import requests\n",
    "import glob\n",
    "import time\n",
    "import json\n",
    "import string\n",
    "from courtlistener_scraper import CLscraper"
   ]
  },
  {
   "cell_type": "code",
   "execution_count": null,
   "metadata": {},
   "outputs": [],
   "source": []
  }
 ],
 "metadata": {
  "kernelspec": {
   "display_name": "judges-conflicts",
   "language": "python",
   "name": "judges-conflicts"
  },
  "language_info": {
   "codemirror_mode": {
    "name": "ipython",
    "version": 3
   },
   "file_extension": ".py",
   "mimetype": "text/x-python",
   "name": "python",
   "nbconvert_exporter": "python",
   "pygments_lexer": "ipython3",
   "version": "3.11.4"
  },
  "orig_nbformat": 4
 },
 "nbformat": 4,
 "nbformat_minor": 2
}
