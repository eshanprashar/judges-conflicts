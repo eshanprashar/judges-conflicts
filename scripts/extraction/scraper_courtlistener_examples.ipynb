{
 "cells": [
  {
   "cell_type": "code",
   "execution_count": 22,
   "metadata": {},
   "outputs": [],
   "source": [
    "# Importing libraries\n",
    "import os\n",
    "import pandas as pd\n",
    "from scraper_courtlistener import CLScraper\n",
    "import importlib\n",
    "from utils import * "
   ]
  },
  {
   "cell_type": "code",
   "execution_count": 23,
   "metadata": {},
   "outputs": [
    {
     "name": "stdout",
     "output_type": "stream",
     "text": [
      "Found .env file at /Users/eshan23/eshanprashar_git_profile/judges-conflicts/token.env\n"
     ]
    }
   ],
   "source": [
    "# Define the scraper object\n",
    "# get_api_token fetches the api token from token.env file - this should be hidden when uploading repo to github\n",
    "positions_scraper = CLScraper(get_api_token())"
   ]
  },
  {
   "cell_type": "code",
   "execution_count": 24,
   "metadata": {},
   "outputs": [
    {
     "name": "stdout",
     "output_type": "stream",
     "text": [
      "Log file created at logs/positions_log.txt\n",
      "Fetching data from page 0...\n",
      "Request count: 1\n",
      "Total items successfully fetched from page 0: 20\n",
      "Total number of entries processed: 20\n",
      "Data directory set to /Users/eshan23/eshanprashar_git_profile/judges-conflicts/data/positions\n",
      "Data saved to /Users/eshan23/eshanprashar_git_profile/judges-conflicts/data/positions/positions_page_0.csv\n",
      "Data saved to /Users/eshan23/eshanprashar_git_profile/judges-conflicts/data/positions/positions_page_0.csv\n",
      "Next URL and page number saved to logs/positions_log.txt\n",
      "Fetching data from page 1...\n",
      "Request count: 2\n",
      "Total items successfully fetched from page 1: 40\n",
      "Next URL and page number saved to logs/positions_log.txt\n",
      "Fetching data from page 2...\n",
      "Request count: 3\n",
      "Total items successfully fetched from page 2: 60\n",
      "Next URL and page number saved to logs/positions_log.txt\n",
      "Fetching data from page 3...\n",
      "Request count: 4\n",
      "Total items successfully fetched from page 3: 80\n",
      "Next URL and page number saved to logs/positions_log.txt\n",
      "Fetching data from page 4...\n",
      "\n",
      "Process interrupted. Here's a summary:\n",
      "Last page URL: https://www.courtlistener.com/api/rest/v4/positions/?cursor=cD01MjQ4NQ%3D%3D\n",
      "Last fetched page: 4\n",
      "Total records fetched: 80\n",
      "Don't worry, the progress has been saved. You can resume from the last page.\n",
      "Exiting gracefully. The last page and URL were logged.\n",
      "Total 80 records fetched in 0.07 minutes!\n"
     ]
    }
   ],
   "source": [
    "# Fetch positions data and check data is gracefully saved\n",
    "try:\n",
    "    positions_data = positions_scraper.fetch_positions()\n",
    "except KeyboardInterrupt:\n",
    "    print(\"Process interrupted! Fetching stopped.\")"
   ]
  },
  {
   "cell_type": "code",
   "execution_count": 25,
   "metadata": {},
   "outputs": [],
   "source": [
    "# Function to define the last page number fetched\n",
    "\n",
    "def get_last_page(path):\n",
    "    \"\"\"Retrieve the last page number fetched from the log file\n",
    "    Returns:\n",
    "    int: The last page number fetched\n",
    "    \"\"\"\n",
    "    try:\n",
    "        with open(path, \"r\") as f:\n",
    "            log_content = f.read().strip()\n",
    "            # The log file contains \"Last successfully fetched page: X\"\n",
    "            for line in log_content.split(\"\\n\"):\n",
    "                if \"Last successfully fetched page\" in line:\n",
    "                    return line\n",
    "    except:\n",
    "        return 1  # Def"
   ]
  },
  {
   "cell_type": "code",
   "execution_count": 26,
   "metadata": {},
   "outputs": [
    {
     "name": "stdout",
     "output_type": "stream",
     "text": [
      "Last successfully fetched page: 3\n"
     ]
    }
   ],
   "source": [
    "# Check the last page number fetched\n",
    "current_path = os.getcwd()\n",
    "positions_log_path = os.path.join(current_path, \"logs\", \"positions_log.txt\")\n",
    "last_page = get_last_page(positions_log_path)\n",
    "print(last_page)"
   ]
  },
  {
   "cell_type": "code",
   "execution_count": 28,
   "metadata": {},
   "outputs": [
    {
     "name": "stdout",
     "output_type": "stream",
     "text": [
      "Found .env file at /Users/eshan23/eshanprashar_git_profile/judges-conflicts/token.env\n"
     ]
    }
   ],
   "source": [
    "# Testing docket scraper\n",
    "dockets_scraper = CLScraper(get_api_token())\n",
    "#docket_data = dockets_scraper.fetch_dockets_per_author_id(author_id=63, is_author_based=True)"
   ]
  },
  {
   "cell_type": "code",
   "execution_count": 30,
   "metadata": {},
   "outputs": [
    {
     "name": "stdout",
     "output_type": "stream",
     "text": [
      "Log file created at logs/search_author_3275_log.txt\n",
      "Fetching data from page 1...\n",
      "Request count: 1\n",
      "Total items successfully fetched from page 1: 20\n",
      "Next URL and page number saved to logs/search_author_3275_log.txt\n",
      "Fetching data from page 2...\n",
      "Request count: 2\n",
      "Total items successfully fetched from page 2: 40\n",
      "Next URL and page number saved to logs/search_author_3275_log.txt\n",
      "Fetching data from page 3...\n",
      "Request count: 3\n",
      "Total items successfully fetched from page 3: 60\n",
      "Next URL and page number saved to logs/search_author_3275_log.txt\n",
      "Fetching data from page 4...\n",
      "Request count: 4\n",
      "Total items successfully fetched from page 4: 80\n",
      "Next URL and page number saved to logs/search_author_3275_log.txt\n",
      "Fetching data from page 5...\n",
      "Request count: 5\n",
      "Total items successfully fetched from page 5: 100\n",
      "Next URL and page number saved to logs/search_author_3275_log.txt\n",
      "Fetching data from page 6...\n",
      "Request count: 6\n",
      "Total items successfully fetched from page 6: 120\n",
      "Next URL and page number saved to logs/search_author_3275_log.txt\n",
      "Fetching data from page 7...\n",
      "Request count: 7\n",
      "Total items successfully fetched from page 7: 140\n",
      "Next URL and page number saved to logs/search_author_3275_log.txt\n",
      "Fetching data from page 8...\n",
      "Request count: 8\n",
      "Total items successfully fetched from page 8: 160\n",
      "Next URL and page number saved to logs/search_author_3275_log.txt\n",
      "Fetching data from page 9...\n",
      "Request count: 9\n",
      "Total items successfully fetched from page 9: 180\n",
      "Next URL and page number saved to logs/search_author_3275_log.txt\n",
      "Fetching data from page 10...\n",
      "Request count: 10\n",
      "Total items successfully fetched from page 10: 200\n",
      "Next URL and page number saved to logs/search_author_3275_log.txt\n",
      "Fetching data from page 11...\n",
      "Request count: 11\n",
      "Total items successfully fetched from page 11: 220\n",
      "Next URL and page number saved to logs/search_author_3275_log.txt\n",
      "Fetching data from page 12...\n",
      "Request count: 12\n",
      "Total items successfully fetched from page 12: 240\n",
      "Next URL and page number saved to logs/search_author_3275_log.txt\n",
      "Fetching data from page 13...\n",
      "Request count: 13\n",
      "Total items successfully fetched from page 13: 260\n",
      "Next URL and page number saved to logs/search_author_3275_log.txt\n",
      "Fetching data from page 14...\n",
      "Request count: 14\n",
      "Total items successfully fetched from page 14: 280\n",
      "Next URL and page number saved to logs/search_author_3275_log.txt\n",
      "Fetching data from page 15...\n",
      "Request count: 15\n",
      "Total items successfully fetched from page 15: 293\n",
      "Next URL and page number saved to logs/search_author_3275_log.txt\n",
      "Exiting gracefully. The last page and URL were logged.\n",
      "Total 293 records fetched in 0.09 minutes!\n",
      "Data directory set to /Users/eshan23/eshanprashar_git_profile/judges-conflicts/data/dockets\n",
      "Total number of entries processed: 293\n",
      "Data saved to /Users/eshan23/eshanprashar_git_profile/judges-conflicts/data/dockets/Turk_3275.csv\n",
      "Data for author_id 3275 saved to /Users/eshan23/eshanprashar_git_profile/judges-conflicts/data/dockets/Turk_3275.csv\n"
     ]
    }
   ],
   "source": [
    "# Extract data for a given author (judge)\n",
    "# Please check the log file before fetching data - if the author log file exists already AND the next_url in log file is None\n",
    "# that means all records have been fetched already\n",
    "author_id = 3275\n",
    "try:\n",
    "    # Call the fetch_dockets_per_author_id method with the current author_id\n",
    "    docket_data = dockets_scraper.fetch_dockets_per_author_id(author_id=author_id, is_author_based=True)\n",
    "except Exception as e:\n",
    "    print(f\"Failed to fetch dockets for author_id: {author_id}: {e}\")"
   ]
  }
 ],
 "metadata": {
  "kernelspec": {
   "display_name": "judges-conflicts",
   "language": "python",
   "name": "judges-conflicts"
  },
  "language_info": {
   "codemirror_mode": {
    "name": "ipython",
    "version": 3
   },
   "file_extension": ".py",
   "mimetype": "text/x-python",
   "name": "python",
   "nbconvert_exporter": "python",
   "pygments_lexer": "ipython3",
   "version": "3.11.4"
  },
  "orig_nbformat": 4
 },
 "nbformat": 4,
 "nbformat_minor": 2
}
